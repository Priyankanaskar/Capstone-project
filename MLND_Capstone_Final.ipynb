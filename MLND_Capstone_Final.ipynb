{
 "cells": [
  {
   "cell_type": "markdown",
   "metadata": {},
   "source": [
    "# Machine Learning Nanodegree"
   ]
  },
  {
   "cell_type": "markdown",
   "metadata": {},
   "source": [
    "## Capstone Project"
   ]
  },
  {
   "cell_type": "markdown",
   "metadata": {},
   "source": [
    "## Gold Rates Prediction using Machine Learning Approach"
   ]
  },
  {
   "cell_type": "markdown",
   "metadata": {},
   "source": [
    "Historically, gold had been used as a form of currency in various parts of the world including USA. In present times, precious metals like gold are held with central banks of all countries to guarantee re-payment of foreign debts, and also to control inflation which results in reflecting the financial strength of the country. \n",
    "\n",
    "Forecasting rise and fall in the daily gold rates, can help investors to decide when to buy (or sell) the commodity. \n",
    "\n",
    "We in this project would forecast gold rates using the most comprehensive set of features and would apply various machine learning algorithms for forecasting and compare their results. We also identify the attributes that highly influence the gold rates.\n",
    "\n",
    "![Gold ETF](Gold.PNG)\n"
   ]
  },
  {
   "cell_type": "markdown",
   "metadata": {},
   "source": [
    "\n",
    "## Project Work Flow\n",
    "\n",
    "I would proceed the project as shown in the below mentioned steps.\n",
    "\n",
    "\n",
    "![Project Work Flow](pd.png)"
   ]
  },
  {
   "cell_type": "markdown",
   "metadata": {},
   "source": [
    "## Importing Libraries"
   ]
  },
  {
   "cell_type": "code",
   "execution_count": 49,
   "metadata": {},
   "outputs": [],
   "source": [
    "import pandas as pd\n",
    "import numpy as np\n",
    "import matplotlib.pyplot as plt\n",
    "import matplotlib\n",
    "from sklearn.preprocessing import MinMaxScaler\n",
    "from sklearn.ensemble import RandomForestRegressor\n",
    "from matplotlib.pyplot import figure\n",
    "import seaborn as sns\n",
    "from sklearn.model_selection import GridSearchCV\n",
    "from sklearn.model_selection import TimeSeriesSplit\n",
    "from sklearn.metrics import mean_squared_error, r2_score\n",
    "import matplotlib.dates as mdates\n",
    "from sklearn import linear_model\n",
    "from sklearn.model_selection import TimeSeriesSplit\n",
    "from sklearn.svm import SVR\n",
    "from statsmodels.tsa.seasonal import seasonal_decompose\n",
    "\n",
    "from dateutil import parser\n",
    "\n",
    "from statsmodels.tsa.arima.model import ARIMA\n",
    "from sklearn.metrics import mean_squared_error\n",
    "\n",
    "import matplotlib.dates as mdates\n",
    "\n",
    "import warnings\n",
    "warnings.filterwarnings('ignore')"
   ]
  },
  {
   "cell_type": "markdown",
   "metadata": {},
   "source": [
    "## About Data"
   ]
  },
  {
   "cell_type": "markdown",
   "metadata": {},
   "source": [
    "Data for this study is collected from **November 18th 2011** to **January 1st 2025** from various sources. The data has **1718** rows in total and **80** columns in total. Data for attributes, such as Oil Price, Standard and Poor’s (S&P) 500 index, Dow Jones Index US Bond rates (10 years), Euro USD exchange rates, prices of precious metals Silver and Platinum and other metals such as Palladium and Rhodium, prices of  US Dollar Index, Eldorado Gold Corporation and Gold Miners ETF were gathered. \n",
    "\n",
    "**Attributes:**\n",
    "\n",
    "**Features**\n",
    "\n",
    "- Gold ETF :- Date, Open, High, Low, Close and Volume.\n",
    "- S&P 500 Index :- 'SP_open', 'SP_high', 'SP_low', 'SP_close', 'SP_Ajclose', 'SP_volume' \n",
    "- Dow Jones Index :- 'DJ_open','DJ_high', 'DJ_low', 'DJ_close', 'DJ_Ajclose', 'DJ_volume' \n",
    "- Eldorado Gold Corporation (EGO) :- 'EG_open', 'EG_high', 'EG_low', 'EG_close', 'EG_Ajclose', 'EG_volume'\n",
    "- EURO - USD Exchange Rate :- 'EU_Price','EU_open', 'EU_high', 'EU_low', 'EU_Trend' \n",
    "- Brent Crude Oil Futures :- 'OF_Price', 'OF_Open', 'OF_High', 'OF_Low', 'OF_Volume', 'OF_Trend'\n",
    "- Crude Oil WTI USD :- 'OS_Price', 'OS_Open', 'OS_High', 'OS_Low', 'OS_Trend'\n",
    "- Silver Futures :- 'SF_Price', 'SF_Open', 'SF_High', 'SF_Low', 'SF_Volume', 'SF_Trend'\n",
    "- US Bond Rate (10 years) :- 'USB_Price', 'USB_Open', 'USB_High','USB_Low', 'USB_Trend' \n",
    "- Platinum Price :- 'PLT_Price', 'PLT_Open', 'PLT_High', 'PLT_Low','PLT_Trend'\n",
    "- Palladium Price :- 'PLD_Price', 'PLD_Open', 'PLD_High', 'PLD_Low','PLD_Trend' \n",
    "- Rhodium Prices :- 'RHO_PRICE' \n",
    "- US Dollar Index : 'USDI_Price', 'USDI_Open', 'USDI_High','USDI_Low', 'USDI_Volume', 'USDI_Trend' \n",
    "- Gold Miners ETF :- 'GDX_Open', 'GDX_High', 'GDX_Low', 'GDX_Close', 'GDX_Adj Close', 'GDX_Volume' \n",
    "- Oil ETF USO :- 'USO_Open','USO_High', 'USO_Low', 'USO_Close', 'USO_Adj Close', 'USO_Volume'\n",
    "\n",
    "**Target Variable**\n",
    "- Gold ETF :- Adjusted Close"
   ]
  },
  {
   "cell_type": "code",
   "execution_count": 50,
   "metadata": {},
   "outputs": [],
   "source": [
    "df=pd.read_csv"
   ]
  },
  {
   "cell_type": "code",
   "execution_count": 51,
   "metadata": {},
   "outputs": [],
   "source": [
    "sentiment_df = pd.read_csv"
   ]
  },
  {
   "cell_type": "code",
   "execution_count": 52,
   "metadata": {},
   "outputs": [],
   "source": [
    "df_final = pd.read_csv(\"FINAL_USO.csv\",na_values=['null'],index_col='Date',parse_dates=True,infer_datetime_format=True)"
   ]
  },
  {
   "cell_type": "code",
   "execution_count": 53,
   "metadata": {},
   "outputs": [
    {
     "data": {
      "text/html": [
       "<div>\n",
       "<style scoped>\n",
       "    .dataframe tbody tr th:only-of-type {\n",
       "        vertical-align: middle;\n",
       "    }\n",
       "\n",
       "    .dataframe tbody tr th {\n",
       "        vertical-align: top;\n",
       "    }\n",
       "\n",
       "    .dataframe thead th {\n",
       "        text-align: right;\n",
       "    }\n",
       "</style>\n",
       "<table border=\"1\" class=\"dataframe\">\n",
       "  <thead>\n",
       "    <tr style=\"text-align: right;\">\n",
       "      <th></th>\n",
       "      <th>Open</th>\n",
       "      <th>High</th>\n",
       "      <th>Low</th>\n",
       "      <th>Close</th>\n",
       "      <th>Adj Close</th>\n",
       "      <th>Volume</th>\n",
       "      <th>SP_open</th>\n",
       "      <th>SP_high</th>\n",
       "      <th>SP_low</th>\n",
       "      <th>SP_close</th>\n",
       "      <th>...</th>\n",
       "      <th>GDX_Low</th>\n",
       "      <th>GDX_Close</th>\n",
       "      <th>GDX_Adj Close</th>\n",
       "      <th>GDX_Volume</th>\n",
       "      <th>USO_Open</th>\n",
       "      <th>USO_High</th>\n",
       "      <th>USO_Low</th>\n",
       "      <th>USO_Close</th>\n",
       "      <th>USO_Adj Close</th>\n",
       "      <th>USO_Volume</th>\n",
       "    </tr>\n",
       "    <tr>\n",
       "      <th>Date</th>\n",
       "      <th></th>\n",
       "      <th></th>\n",
       "      <th></th>\n",
       "      <th></th>\n",
       "      <th></th>\n",
       "      <th></th>\n",
       "      <th></th>\n",
       "      <th></th>\n",
       "      <th></th>\n",
       "      <th></th>\n",
       "      <th></th>\n",
       "      <th></th>\n",
       "      <th></th>\n",
       "      <th></th>\n",
       "      <th></th>\n",
       "      <th></th>\n",
       "      <th></th>\n",
       "      <th></th>\n",
       "      <th></th>\n",
       "      <th></th>\n",
       "      <th></th>\n",
       "    </tr>\n",
       "  </thead>\n",
       "  <tbody>\n",
       "    <tr>\n",
       "      <th>2011-12-15</th>\n",
       "      <td>154.740005</td>\n",
       "      <td>154.949997</td>\n",
       "      <td>151.710007</td>\n",
       "      <td>152.330002</td>\n",
       "      <td>152.330002</td>\n",
       "      <td>21521900</td>\n",
       "      <td>123.029999</td>\n",
       "      <td>123.199997</td>\n",
       "      <td>121.989998</td>\n",
       "      <td>122.180000</td>\n",
       "      <td>...</td>\n",
       "      <td>51.570000</td>\n",
       "      <td>51.680000</td>\n",
       "      <td>48.973877</td>\n",
       "      <td>20605600</td>\n",
       "      <td>36.900002</td>\n",
       "      <td>36.939999</td>\n",
       "      <td>36.049999</td>\n",
       "      <td>36.130001</td>\n",
       "      <td>36.130001</td>\n",
       "      <td>12616700</td>\n",
       "    </tr>\n",
       "    <tr>\n",
       "      <th>2011-12-16</th>\n",
       "      <td>154.309998</td>\n",
       "      <td>155.369995</td>\n",
       "      <td>153.899994</td>\n",
       "      <td>155.229996</td>\n",
       "      <td>155.229996</td>\n",
       "      <td>18124300</td>\n",
       "      <td>122.230003</td>\n",
       "      <td>122.949997</td>\n",
       "      <td>121.300003</td>\n",
       "      <td>121.589996</td>\n",
       "      <td>...</td>\n",
       "      <td>52.040001</td>\n",
       "      <td>52.680000</td>\n",
       "      <td>49.921513</td>\n",
       "      <td>16285400</td>\n",
       "      <td>36.180000</td>\n",
       "      <td>36.500000</td>\n",
       "      <td>35.730000</td>\n",
       "      <td>36.270000</td>\n",
       "      <td>36.270000</td>\n",
       "      <td>12578800</td>\n",
       "    </tr>\n",
       "    <tr>\n",
       "      <th>2011-12-19</th>\n",
       "      <td>155.479996</td>\n",
       "      <td>155.860001</td>\n",
       "      <td>154.360001</td>\n",
       "      <td>154.869995</td>\n",
       "      <td>154.869995</td>\n",
       "      <td>12547200</td>\n",
       "      <td>122.059998</td>\n",
       "      <td>122.320000</td>\n",
       "      <td>120.029999</td>\n",
       "      <td>120.290001</td>\n",
       "      <td>...</td>\n",
       "      <td>51.029999</td>\n",
       "      <td>51.169998</td>\n",
       "      <td>48.490578</td>\n",
       "      <td>15120200</td>\n",
       "      <td>36.389999</td>\n",
       "      <td>36.450001</td>\n",
       "      <td>35.930000</td>\n",
       "      <td>36.200001</td>\n",
       "      <td>36.200001</td>\n",
       "      <td>7418200</td>\n",
       "    </tr>\n",
       "    <tr>\n",
       "      <th>2011-12-20</th>\n",
       "      <td>156.820007</td>\n",
       "      <td>157.429993</td>\n",
       "      <td>156.580002</td>\n",
       "      <td>156.979996</td>\n",
       "      <td>156.979996</td>\n",
       "      <td>9136300</td>\n",
       "      <td>122.180000</td>\n",
       "      <td>124.139999</td>\n",
       "      <td>120.370003</td>\n",
       "      <td>123.930000</td>\n",
       "      <td>...</td>\n",
       "      <td>52.369999</td>\n",
       "      <td>52.990002</td>\n",
       "      <td>50.215282</td>\n",
       "      <td>11644900</td>\n",
       "      <td>37.299999</td>\n",
       "      <td>37.610001</td>\n",
       "      <td>37.220001</td>\n",
       "      <td>37.560001</td>\n",
       "      <td>37.560001</td>\n",
       "      <td>10041600</td>\n",
       "    </tr>\n",
       "    <tr>\n",
       "      <th>2011-12-21</th>\n",
       "      <td>156.979996</td>\n",
       "      <td>157.529999</td>\n",
       "      <td>156.130005</td>\n",
       "      <td>157.160004</td>\n",
       "      <td>157.160004</td>\n",
       "      <td>11996100</td>\n",
       "      <td>123.930000</td>\n",
       "      <td>124.360001</td>\n",
       "      <td>122.750000</td>\n",
       "      <td>124.169998</td>\n",
       "      <td>...</td>\n",
       "      <td>52.419998</td>\n",
       "      <td>52.959999</td>\n",
       "      <td>50.186852</td>\n",
       "      <td>8724300</td>\n",
       "      <td>37.669998</td>\n",
       "      <td>38.240002</td>\n",
       "      <td>37.520000</td>\n",
       "      <td>38.110001</td>\n",
       "      <td>38.110001</td>\n",
       "      <td>10728000</td>\n",
       "    </tr>\n",
       "  </tbody>\n",
       "</table>\n",
       "<p>5 rows × 80 columns</p>\n",
       "</div>"
      ],
      "text/plain": [
       "                  Open        High         Low       Close   Adj Close  \\\n",
       "Date                                                                     \n",
       "2011-12-15  154.740005  154.949997  151.710007  152.330002  152.330002   \n",
       "2011-12-16  154.309998  155.369995  153.899994  155.229996  155.229996   \n",
       "2011-12-19  155.479996  155.860001  154.360001  154.869995  154.869995   \n",
       "2011-12-20  156.820007  157.429993  156.580002  156.979996  156.979996   \n",
       "2011-12-21  156.979996  157.529999  156.130005  157.160004  157.160004   \n",
       "\n",
       "              Volume     SP_open     SP_high      SP_low    SP_close  ...  \\\n",
       "Date                                                                  ...   \n",
       "2011-12-15  21521900  123.029999  123.199997  121.989998  122.180000  ...   \n",
       "2011-12-16  18124300  122.230003  122.949997  121.300003  121.589996  ...   \n",
       "2011-12-19  12547200  122.059998  122.320000  120.029999  120.290001  ...   \n",
       "2011-12-20   9136300  122.180000  124.139999  120.370003  123.930000  ...   \n",
       "2011-12-21  11996100  123.930000  124.360001  122.750000  124.169998  ...   \n",
       "\n",
       "              GDX_Low  GDX_Close  GDX_Adj Close  GDX_Volume   USO_Open  \\\n",
       "Date                                                                     \n",
       "2011-12-15  51.570000  51.680000      48.973877    20605600  36.900002   \n",
       "2011-12-16  52.040001  52.680000      49.921513    16285400  36.180000   \n",
       "2011-12-19  51.029999  51.169998      48.490578    15120200  36.389999   \n",
       "2011-12-20  52.369999  52.990002      50.215282    11644900  37.299999   \n",
       "2011-12-21  52.419998  52.959999      50.186852     8724300  37.669998   \n",
       "\n",
       "             USO_High    USO_Low  USO_Close  USO_Adj Close  USO_Volume  \n",
       "Date                                                                    \n",
       "2011-12-15  36.939999  36.049999  36.130001      36.130001    12616700  \n",
       "2011-12-16  36.500000  35.730000  36.270000      36.270000    12578800  \n",
       "2011-12-19  36.450001  35.930000  36.200001      36.200001     7418200  \n",
       "2011-12-20  37.610001  37.220001  37.560001      37.560001    10041600  \n",
       "2011-12-21  38.240002  37.520000  38.110001      38.110001    10728000  \n",
       "\n",
       "[5 rows x 80 columns]"
      ]
     },
     "execution_count": 53,
     "metadata": {},
     "output_type": "execute_result"
    }
   ],
   "source": [
    "df_final.head()"
   ]
  },
  {
   "cell_type": "code",
   "execution_count": 54,
   "metadata": {},
   "outputs": [
    {
     "data": {
      "text/plain": [
       "(1718, 80)"
      ]
     },
     "execution_count": 54,
     "metadata": {},
     "output_type": "execute_result"
    }
   ],
   "source": [
    "df_final.shape"
   ]
  },
  {
   "cell_type": "markdown",
   "metadata": {},
   "source": [
    "So, we have (1718, 80)records in the dataset and 18 columns including Adjusted Close which is our target variable."
   ]
  },
  {
   "cell_type": "code",
   "execution_count": 55,
   "metadata": {},
   "outputs": [
    {
     "data": {
      "text/html": [
       "<div>\n",
       "<style scoped>\n",
       "    .dataframe tbody tr th:only-of-type {\n",
       "        vertical-align: middle;\n",
       "    }\n",
       "\n",
       "    .dataframe tbody tr th {\n",
       "        vertical-align: top;\n",
       "    }\n",
       "\n",
       "    .dataframe thead th {\n",
       "        text-align: right;\n",
       "    }\n",
       "</style>\n",
       "<table border=\"1\" class=\"dataframe\">\n",
       "  <thead>\n",
       "    <tr style=\"text-align: right;\">\n",
       "      <th></th>\n",
       "      <th>Open</th>\n",
       "      <th>High</th>\n",
       "      <th>Low</th>\n",
       "      <th>Close</th>\n",
       "      <th>Adj Close</th>\n",
       "      <th>Volume</th>\n",
       "      <th>SP_open</th>\n",
       "      <th>SP_high</th>\n",
       "      <th>SP_low</th>\n",
       "      <th>SP_close</th>\n",
       "      <th>...</th>\n",
       "      <th>GDX_Low</th>\n",
       "      <th>GDX_Close</th>\n",
       "      <th>GDX_Adj Close</th>\n",
       "      <th>GDX_Volume</th>\n",
       "      <th>USO_Open</th>\n",
       "      <th>USO_High</th>\n",
       "      <th>USO_Low</th>\n",
       "      <th>USO_Close</th>\n",
       "      <th>USO_Adj Close</th>\n",
       "      <th>USO_Volume</th>\n",
       "    </tr>\n",
       "  </thead>\n",
       "  <tbody>\n",
       "    <tr>\n",
       "      <th>count</th>\n",
       "      <td>1718.000000</td>\n",
       "      <td>1718.000000</td>\n",
       "      <td>1718.000000</td>\n",
       "      <td>1718.000000</td>\n",
       "      <td>1718.000000</td>\n",
       "      <td>1.718000e+03</td>\n",
       "      <td>1718.000000</td>\n",
       "      <td>1718.000000</td>\n",
       "      <td>1718.000000</td>\n",
       "      <td>1718.000000</td>\n",
       "      <td>...</td>\n",
       "      <td>1718.000000</td>\n",
       "      <td>1718.000000</td>\n",
       "      <td>1718.000000</td>\n",
       "      <td>1.718000e+03</td>\n",
       "      <td>1718.000000</td>\n",
       "      <td>1718.000000</td>\n",
       "      <td>1718.000000</td>\n",
       "      <td>1718.000000</td>\n",
       "      <td>1718.000000</td>\n",
       "      <td>1.718000e+03</td>\n",
       "    </tr>\n",
       "    <tr>\n",
       "      <th>mean</th>\n",
       "      <td>127.323434</td>\n",
       "      <td>127.854237</td>\n",
       "      <td>126.777695</td>\n",
       "      <td>127.319482</td>\n",
       "      <td>127.319482</td>\n",
       "      <td>8.446327e+06</td>\n",
       "      <td>204.490023</td>\n",
       "      <td>205.372637</td>\n",
       "      <td>203.487014</td>\n",
       "      <td>204.491222</td>\n",
       "      <td>...</td>\n",
       "      <td>26.384575</td>\n",
       "      <td>26.715012</td>\n",
       "      <td>25.924624</td>\n",
       "      <td>4.356515e+07</td>\n",
       "      <td>22.113417</td>\n",
       "      <td>22.307148</td>\n",
       "      <td>21.904657</td>\n",
       "      <td>22.109051</td>\n",
       "      <td>22.109051</td>\n",
       "      <td>1.922313e+07</td>\n",
       "    </tr>\n",
       "    <tr>\n",
       "      <th>std</th>\n",
       "      <td>17.526993</td>\n",
       "      <td>17.631189</td>\n",
       "      <td>17.396513</td>\n",
       "      <td>17.536269</td>\n",
       "      <td>17.536269</td>\n",
       "      <td>4.920731e+06</td>\n",
       "      <td>43.831928</td>\n",
       "      <td>43.974644</td>\n",
       "      <td>43.618940</td>\n",
       "      <td>43.776999</td>\n",
       "      <td>...</td>\n",
       "      <td>10.490908</td>\n",
       "      <td>10.603110</td>\n",
       "      <td>9.886570</td>\n",
       "      <td>2.909151e+07</td>\n",
       "      <td>11.431056</td>\n",
       "      <td>11.478671</td>\n",
       "      <td>11.373997</td>\n",
       "      <td>11.432787</td>\n",
       "      <td>11.432787</td>\n",
       "      <td>1.575743e+07</td>\n",
       "    </tr>\n",
       "    <tr>\n",
       "      <th>min</th>\n",
       "      <td>100.919998</td>\n",
       "      <td>100.989998</td>\n",
       "      <td>100.230003</td>\n",
       "      <td>100.500000</td>\n",
       "      <td>100.500000</td>\n",
       "      <td>1.501600e+06</td>\n",
       "      <td>122.059998</td>\n",
       "      <td>122.320000</td>\n",
       "      <td>120.029999</td>\n",
       "      <td>120.290001</td>\n",
       "      <td>...</td>\n",
       "      <td>12.400000</td>\n",
       "      <td>12.470000</td>\n",
       "      <td>12.269618</td>\n",
       "      <td>4.729000e+06</td>\n",
       "      <td>7.820000</td>\n",
       "      <td>8.030000</td>\n",
       "      <td>7.670000</td>\n",
       "      <td>7.960000</td>\n",
       "      <td>7.960000</td>\n",
       "      <td>1.035100e+06</td>\n",
       "    </tr>\n",
       "    <tr>\n",
       "      <th>25%</th>\n",
       "      <td>116.220001</td>\n",
       "      <td>116.540001</td>\n",
       "      <td>115.739998</td>\n",
       "      <td>116.052502</td>\n",
       "      <td>116.052502</td>\n",
       "      <td>5.412925e+06</td>\n",
       "      <td>170.392498</td>\n",
       "      <td>170.962506</td>\n",
       "      <td>169.577499</td>\n",
       "      <td>170.397500</td>\n",
       "      <td>...</td>\n",
       "      <td>20.355000</td>\n",
       "      <td>20.585000</td>\n",
       "      <td>20.180950</td>\n",
       "      <td>2.259968e+07</td>\n",
       "      <td>11.420000</td>\n",
       "      <td>11.500000</td>\n",
       "      <td>11.300000</td>\n",
       "      <td>11.392500</td>\n",
       "      <td>11.392500</td>\n",
       "      <td>6.229500e+06</td>\n",
       "    </tr>\n",
       "    <tr>\n",
       "      <th>50%</th>\n",
       "      <td>121.915001</td>\n",
       "      <td>122.325001</td>\n",
       "      <td>121.369999</td>\n",
       "      <td>121.795002</td>\n",
       "      <td>121.795002</td>\n",
       "      <td>7.483900e+06</td>\n",
       "      <td>205.464996</td>\n",
       "      <td>206.459999</td>\n",
       "      <td>204.430000</td>\n",
       "      <td>205.529999</td>\n",
       "      <td>...</td>\n",
       "      <td>22.870001</td>\n",
       "      <td>23.054999</td>\n",
       "      <td>22.677604</td>\n",
       "      <td>3.730465e+07</td>\n",
       "      <td>16.450000</td>\n",
       "      <td>16.635001</td>\n",
       "      <td>16.040000</td>\n",
       "      <td>16.345000</td>\n",
       "      <td>16.345000</td>\n",
       "      <td>1.613015e+07</td>\n",
       "    </tr>\n",
       "    <tr>\n",
       "      <th>75%</th>\n",
       "      <td>128.427494</td>\n",
       "      <td>129.087498</td>\n",
       "      <td>127.840001</td>\n",
       "      <td>128.470001</td>\n",
       "      <td>128.470001</td>\n",
       "      <td>1.020795e+07</td>\n",
       "      <td>237.292500</td>\n",
       "      <td>237.722500</td>\n",
       "      <td>236.147503</td>\n",
       "      <td>236.889996</td>\n",
       "      <td>...</td>\n",
       "      <td>26.797500</td>\n",
       "      <td>27.317500</td>\n",
       "      <td>26.478154</td>\n",
       "      <td>5.697055e+07</td>\n",
       "      <td>34.419998</td>\n",
       "      <td>34.667499</td>\n",
       "      <td>34.110000</td>\n",
       "      <td>34.417499</td>\n",
       "      <td>34.417499</td>\n",
       "      <td>2.672375e+07</td>\n",
       "    </tr>\n",
       "    <tr>\n",
       "      <th>max</th>\n",
       "      <td>173.199997</td>\n",
       "      <td>174.070007</td>\n",
       "      <td>172.919998</td>\n",
       "      <td>173.610001</td>\n",
       "      <td>173.610001</td>\n",
       "      <td>9.380420e+07</td>\n",
       "      <td>293.089996</td>\n",
       "      <td>293.940002</td>\n",
       "      <td>291.809998</td>\n",
       "      <td>293.579987</td>\n",
       "      <td>...</td>\n",
       "      <td>56.770000</td>\n",
       "      <td>57.470001</td>\n",
       "      <td>54.617039</td>\n",
       "      <td>2.321536e+08</td>\n",
       "      <td>41.599998</td>\n",
       "      <td>42.299999</td>\n",
       "      <td>41.299999</td>\n",
       "      <td>42.009998</td>\n",
       "      <td>42.009998</td>\n",
       "      <td>1.102657e+08</td>\n",
       "    </tr>\n",
       "  </tbody>\n",
       "</table>\n",
       "<p>8 rows × 80 columns</p>\n",
       "</div>"
      ],
      "text/plain": [
       "              Open         High          Low        Close    Adj Close  \\\n",
       "count  1718.000000  1718.000000  1718.000000  1718.000000  1718.000000   \n",
       "mean    127.323434   127.854237   126.777695   127.319482   127.319482   \n",
       "std      17.526993    17.631189    17.396513    17.536269    17.536269   \n",
       "min     100.919998   100.989998   100.230003   100.500000   100.500000   \n",
       "25%     116.220001   116.540001   115.739998   116.052502   116.052502   \n",
       "50%     121.915001   122.325001   121.369999   121.795002   121.795002   \n",
       "75%     128.427494   129.087498   127.840001   128.470001   128.470001   \n",
       "max     173.199997   174.070007   172.919998   173.610001   173.610001   \n",
       "\n",
       "             Volume      SP_open      SP_high       SP_low     SP_close  ...  \\\n",
       "count  1.718000e+03  1718.000000  1718.000000  1718.000000  1718.000000  ...   \n",
       "mean   8.446327e+06   204.490023   205.372637   203.487014   204.491222  ...   \n",
       "std    4.920731e+06    43.831928    43.974644    43.618940    43.776999  ...   \n",
       "min    1.501600e+06   122.059998   122.320000   120.029999   120.290001  ...   \n",
       "25%    5.412925e+06   170.392498   170.962506   169.577499   170.397500  ...   \n",
       "50%    7.483900e+06   205.464996   206.459999   204.430000   205.529999  ...   \n",
       "75%    1.020795e+07   237.292500   237.722500   236.147503   236.889996  ...   \n",
       "max    9.380420e+07   293.089996   293.940002   291.809998   293.579987  ...   \n",
       "\n",
       "           GDX_Low    GDX_Close  GDX_Adj Close    GDX_Volume     USO_Open  \\\n",
       "count  1718.000000  1718.000000    1718.000000  1.718000e+03  1718.000000   \n",
       "mean     26.384575    26.715012      25.924624  4.356515e+07    22.113417   \n",
       "std      10.490908    10.603110       9.886570  2.909151e+07    11.431056   \n",
       "min      12.400000    12.470000      12.269618  4.729000e+06     7.820000   \n",
       "25%      20.355000    20.585000      20.180950  2.259968e+07    11.420000   \n",
       "50%      22.870001    23.054999      22.677604  3.730465e+07    16.450000   \n",
       "75%      26.797500    27.317500      26.478154  5.697055e+07    34.419998   \n",
       "max      56.770000    57.470001      54.617039  2.321536e+08    41.599998   \n",
       "\n",
       "          USO_High      USO_Low    USO_Close  USO_Adj Close    USO_Volume  \n",
       "count  1718.000000  1718.000000  1718.000000    1718.000000  1.718000e+03  \n",
       "mean     22.307148    21.904657    22.109051      22.109051  1.922313e+07  \n",
       "std      11.478671    11.373997    11.432787      11.432787  1.575743e+07  \n",
       "min       8.030000     7.670000     7.960000       7.960000  1.035100e+06  \n",
       "25%      11.500000    11.300000    11.392500      11.392500  6.229500e+06  \n",
       "50%      16.635001    16.040000    16.345000      16.345000  1.613015e+07  \n",
       "75%      34.667499    34.110000    34.417499      34.417499  2.672375e+07  \n",
       "max      42.299999    41.299999    42.009998      42.009998  1.102657e+08  \n",
       "\n",
       "[8 rows x 80 columns]"
      ]
     },
     "execution_count": 55,
     "metadata": {},
     "output_type": "execute_result"
    }
   ],
   "source": [
    "df_final.describe()"
   ]
  },
  {
   "cell_type": "code",
   "execution_count": 56,
   "metadata": {},
   "outputs": [
    {
     "name": "stdout",
     "output_type": "stream",
     "text": [
      "<class 'pandas.core.frame.DataFrame'>\n",
      "DatetimeIndex: 1718 entries, 2011-12-15 to 2018-12-31\n",
      "Data columns (total 80 columns):\n",
      " #   Column         Non-Null Count  Dtype  \n",
      "---  ------         --------------  -----  \n",
      " 0   Open           1718 non-null   float64\n",
      " 1   High           1718 non-null   float64\n",
      " 2   Low            1718 non-null   float64\n",
      " 3   Close          1718 non-null   float64\n",
      " 4   Adj Close      1718 non-null   float64\n",
      " 5   Volume         1718 non-null   int64  \n",
      " 6   SP_open        1718 non-null   float64\n",
      " 7   SP_high        1718 non-null   float64\n",
      " 8   SP_low         1718 non-null   float64\n",
      " 9   SP_close       1718 non-null   float64\n",
      " 10  SP_Ajclose     1718 non-null   float64\n",
      " 11  SP_volume      1718 non-null   int64  \n",
      " 12  DJ_open        1718 non-null   float64\n",
      " 13  DJ_high        1718 non-null   float64\n",
      " 14  DJ_low         1718 non-null   float64\n",
      " 15  DJ_close       1718 non-null   float64\n",
      " 16  DJ_Ajclose     1718 non-null   float64\n",
      " 17  DJ_volume      1718 non-null   int64  \n",
      " 18  EG_open        1718 non-null   float64\n",
      " 19  EG_high        1718 non-null   float64\n",
      " 20  EG_low         1718 non-null   float64\n",
      " 21  EG_close       1718 non-null   float64\n",
      " 22  EG_Ajclose     1718 non-null   float64\n",
      " 23  EG_volume      1718 non-null   int64  \n",
      " 24  EU_Price       1718 non-null   float64\n",
      " 25  EU_open        1718 non-null   float64\n",
      " 26  EU_high        1718 non-null   float64\n",
      " 27  EU_low         1718 non-null   float64\n",
      " 28  EU_Trend       1718 non-null   int64  \n",
      " 29  OF_Price       1718 non-null   float64\n",
      " 30  OF_Open        1718 non-null   float64\n",
      " 31  OF_High        1718 non-null   float64\n",
      " 32  OF_Low         1718 non-null   float64\n",
      " 33  OF_Volume      1718 non-null   int64  \n",
      " 34  OF_Trend       1718 non-null   int64  \n",
      " 35  OS_Price       1718 non-null   float64\n",
      " 36  OS_Open        1718 non-null   float64\n",
      " 37  OS_High        1718 non-null   float64\n",
      " 38  OS_Low         1718 non-null   float64\n",
      " 39  OS_Trend       1718 non-null   int64  \n",
      " 40  SF_Price       1718 non-null   int64  \n",
      " 41  SF_Open        1718 non-null   int64  \n",
      " 42  SF_High        1718 non-null   int64  \n",
      " 43  SF_Low         1718 non-null   int64  \n",
      " 44  SF_Volume      1718 non-null   int64  \n",
      " 45  SF_Trend       1718 non-null   int64  \n",
      " 46  USB_Price      1718 non-null   float64\n",
      " 47  USB_Open       1718 non-null   float64\n",
      " 48  USB_High       1718 non-null   float64\n",
      " 49  USB_Low        1718 non-null   float64\n",
      " 50  USB_Trend      1718 non-null   int64  \n",
      " 51  PLT_Price      1718 non-null   float64\n",
      " 52  PLT_Open       1718 non-null   float64\n",
      " 53  PLT_High       1718 non-null   float64\n",
      " 54  PLT_Low        1718 non-null   float64\n",
      " 55  PLT_Trend      1718 non-null   int64  \n",
      " 56  PLD_Price      1718 non-null   float64\n",
      " 57  PLD_Open       1718 non-null   float64\n",
      " 58  PLD_High       1718 non-null   float64\n",
      " 59  PLD_Low        1718 non-null   float64\n",
      " 60  PLD_Trend      1718 non-null   int64  \n",
      " 61  RHO_PRICE      1718 non-null   int64  \n",
      " 62  USDI_Price     1718 non-null   float64\n",
      " 63  USDI_Open      1718 non-null   float64\n",
      " 64  USDI_High      1718 non-null   float64\n",
      " 65  USDI_Low       1718 non-null   float64\n",
      " 66  USDI_Volume    1718 non-null   int64  \n",
      " 67  USDI_Trend     1718 non-null   int64  \n",
      " 68  GDX_Open       1718 non-null   float64\n",
      " 69  GDX_High       1718 non-null   float64\n",
      " 70  GDX_Low        1718 non-null   float64\n",
      " 71  GDX_Close      1718 non-null   float64\n",
      " 72  GDX_Adj Close  1718 non-null   float64\n",
      " 73  GDX_Volume     1718 non-null   int64  \n",
      " 74  USO_Open       1718 non-null   float64\n",
      " 75  USO_High       1718 non-null   float64\n",
      " 76  USO_Low        1718 non-null   float64\n",
      " 77  USO_Close      1718 non-null   float64\n",
      " 78  USO_Adj Close  1718 non-null   float64\n",
      " 79  USO_Volume     1718 non-null   int64  \n",
      "dtypes: float64(58), int64(22)\n",
      "memory usage: 1.1 MB\n"
     ]
    }
   ],
   "source": [
    "df_final.info()"
   ]
  },
  {
   "cell_type": "markdown",
   "metadata": {},
   "source": [
    "# Checking Missing Values"
   ]
  },
  {
   "cell_type": "code",
   "execution_count": 57,
   "metadata": {},
   "outputs": [
    {
     "data": {
      "text/plain": [
       "False"
      ]
     },
     "execution_count": 57,
     "metadata": {},
     "output_type": "execute_result"
    }
   ],
   "source": [
    "df_final.isnull().values.any()"
   ]
  },
  {
   "cell_type": "markdown",
   "metadata": {},
   "source": [
    "That's great ! we dont have any missing values in our dataset"
   ]
  },
  {
   "cell_type": "code",
   "execution_count": 58,
   "metadata": {},
   "outputs": [
    {
     "name": "stdout",
     "output_type": "stream",
     "text": [
      "Open             0\n",
      "High             0\n",
      "Low              0\n",
      "Close            0\n",
      "Adj Close        0\n",
      "                ..\n",
      "USO_High         0\n",
      "USO_Low          0\n",
      "USO_Close        0\n",
      "USO_Adj Close    0\n",
      "USO_Volume       0\n",
      "Length: 80, dtype: int64\n"
     ]
    }
   ],
   "source": [
    "print(df_final.isnull().sum())"
   ]
  },
  {
   "cell_type": "markdown",
   "metadata": {},
   "source": [
    "## Effect of Index prices on gold rates"
   ]
  },
  {
   "cell_type": "code",
   "execution_count": 59,
   "metadata": {},
   "outputs": [],
   "source": [
    "import pandas as pd\n",
    "\n",
    "df_final = pd.read_csv('FINAL-USO.csv')  # or your actual file\n",
    "# Convert the 'Date' column to datetime format\n",
    "df_final['Date'] = pd.to_datetime(df_final['Date'])"
   ]
  },
  {
   "cell_type": "code",
   "execution_count": 60,
   "metadata": {},
   "outputs": [],
   "source": [
    "# Set 'Date' as the index\n",
    "df_final.set_index('Date', inplace=True)"
   ]
  },
  {
   "cell_type": "code",
   "execution_count": 61,
   "metadata": {},
   "outputs": [
    {
     "name": "stdout",
     "output_type": "stream",
     "text": [
      "Index(['USD', 'EUR', 'JPY', 'GBP', 'CAD', 'CHF', 'INR', 'CNY', 'TRY', 'SAR',\n",
      "       'IDR', 'AED', 'THB', 'VND', 'EGP', 'KRW', 'RUB', 'ZAR', 'AUD'],\n",
      "      dtype='object')\n"
     ]
    }
   ],
   "source": [
    "print(df_final.columns)\n"
   ]
  },
  {
   "cell_type": "code",
   "execution_count": 62,
   "metadata": {},
   "outputs": [
    {
     "data": {
      "image/png": "[encoded data removed]",
      "text/plain": [
       "<Figure size 1200x600 with 1 Axes>"
      ]
     },
     "metadata": {},
     "output_type": "display_data"
    }
   ],
   "source": [
    "import matplotlib.pyplot as plt\n",
    "\n",
    "# Plot 'USD' Closing Price over time (assuming 'Date' is the index)\n",
    "plt.figure(figsize=(12, 6))\n",
    "plt.plot(df_final.index, df_final['USD'], label='USD Closing Price', color='blue')\n",
    "\n",
    "# Title and Labels\n",
    "plt.style.use('seaborn-v0_8-dark-palette')\n",
    "plt.title('USD Closing Price Over Time', fontsize=14)\n",
    "plt.xlabel('Date', fontsize=12)\n",
    "plt.ylabel('Price (USD)', fontsize=12)\n",
    "\n",
    "# Formatting Date on the x-axis for better readability\n",
    "plt.xticks(rotation=45, ha='right')  # Rotate dates for better visibility\n",
    "plt.grid(True)\n",
    "\n",
    "# Add a legend\n",
    "plt.legend()\n",
    "\n",
    "# Adjust layout to make sure everything fits\n",
    "plt.tight_layout()\n",
    "\n",
    "# Display the plot\n",
    "plt.show()\n"
   ]
  },
  {
   "cell_type": "code",
   "execution_count": 65,
   "metadata": {},
   "outputs": [
    {
     "ename": "KeyError",
     "evalue": "'Adj Close'",
     "output_type": "error",
     "traceback": [
      "\u001b[1;31m---------------------------------------------------------------------------\u001b[0m",
      "\u001b[1;31mKeyError\u001b[0m                                  Traceback (most recent call last)",
      "File \u001b[1;32mc:\\Users\\priya\\anaconda3\\Lib\\site-packages\\pandas\\core\\indexes\\base.py:3805\u001b[0m, in \u001b[0;36mIndex.get_loc\u001b[1;34m(self, key)\u001b[0m\n\u001b[0;32m   3804\u001b[0m \u001b[38;5;28;01mtry\u001b[39;00m:\n\u001b[1;32m-> 3805\u001b[0m     \u001b[38;5;28;01mreturn\u001b[39;00m \u001b[38;5;28mself\u001b[39m\u001b[38;5;241m.\u001b[39m_engine\u001b[38;5;241m.\u001b[39mget_loc(casted_key)\n\u001b[0;32m   3806\u001b[0m \u001b[38;5;28;01mexcept\u001b[39;00m \u001b[38;5;167;01mKeyError\u001b[39;00m \u001b[38;5;28;01mas\u001b[39;00m err:\n",
      "File \u001b[1;32mindex.pyx:167\u001b[0m, in \u001b[0;36mpandas._libs.index.IndexEngine.get_loc\u001b[1;34m()\u001b[0m\n",
      "File \u001b[1;32mindex.pyx:196\u001b[0m, in \u001b[0;36mpandas._libs.index.IndexEngine.get_loc\u001b[1;34m()\u001b[0m\n",
      "File \u001b[1;32mpandas\\\\_libs\\\\hashtable_class_helper.pxi:7081\u001b[0m, in \u001b[0;36mpandas._libs.hashtable.PyObjectHashTable.get_item\u001b[1;34m()\u001b[0m\n",
      "File \u001b[1;32mpandas\\\\_libs\\\\hashtable_class_helper.pxi:7089\u001b[0m, in \u001b[0;36mpandas._libs.hashtable.PyObjectHashTable.get_item\u001b[1;34m()\u001b[0m\n",
      "\u001b[1;31mKeyError\u001b[0m: 'Adj Close'",
      "\nThe above exception was the direct cause of the following exception:\n",
      "\u001b[1;31mKeyError\u001b[0m                                  Traceback (most recent call last)",
      "Cell \u001b[1;32mIn[65], line 1\u001b[0m\n\u001b[1;32m----> 1\u001b[0m GLD_adj_close \u001b[38;5;241m=\u001b[39m df_final[\u001b[38;5;124m'\u001b[39m\u001b[38;5;124mAdj Close\u001b[39m\u001b[38;5;124m'\u001b[39m]\n\u001b[0;32m      2\u001b[0m SPY_adj_close \u001b[38;5;241m=\u001b[39m df_final[\u001b[38;5;124m'\u001b[39m\u001b[38;5;124mSP_Ajclose\u001b[39m\u001b[38;5;124m'\u001b[39m]\n\u001b[0;32m      3\u001b[0m DJ_adj_close  \u001b[38;5;241m=\u001b[39m df_final[\u001b[38;5;124m'\u001b[39m\u001b[38;5;124mDJ_Ajclose\u001b[39m\u001b[38;5;124m'\u001b[39m]\n",
      "File \u001b[1;32mc:\\Users\\priya\\anaconda3\\Lib\\site-packages\\pandas\\core\\frame.py:4102\u001b[0m, in \u001b[0;36mDataFrame.__getitem__\u001b[1;34m(self, key)\u001b[0m\n\u001b[0;32m   4100\u001b[0m \u001b[38;5;28;01mif\u001b[39;00m \u001b[38;5;28mself\u001b[39m\u001b[38;5;241m.\u001b[39mcolumns\u001b[38;5;241m.\u001b[39mnlevels \u001b[38;5;241m>\u001b[39m \u001b[38;5;241m1\u001b[39m:\n\u001b[0;32m   4101\u001b[0m     \u001b[38;5;28;01mreturn\u001b[39;00m \u001b[38;5;28mself\u001b[39m\u001b[38;5;241m.\u001b[39m_getitem_multilevel(key)\n\u001b[1;32m-> 4102\u001b[0m indexer \u001b[38;5;241m=\u001b[39m \u001b[38;5;28mself\u001b[39m\u001b[38;5;241m.\u001b[39mcolumns\u001b[38;5;241m.\u001b[39mget_loc(key)\n\u001b[0;32m   4103\u001b[0m \u001b[38;5;28;01mif\u001b[39;00m is_integer(indexer):\n\u001b[0;32m   4104\u001b[0m     indexer \u001b[38;5;241m=\u001b[39m [indexer]\n",
      "File \u001b[1;32mc:\\Users\\priya\\anaconda3\\Lib\\site-packages\\pandas\\core\\indexes\\base.py:3812\u001b[0m, in \u001b[0;36mIndex.get_loc\u001b[1;34m(self, key)\u001b[0m\n\u001b[0;32m   3807\u001b[0m     \u001b[38;5;28;01mif\u001b[39;00m \u001b[38;5;28misinstance\u001b[39m(casted_key, \u001b[38;5;28mslice\u001b[39m) \u001b[38;5;129;01mor\u001b[39;00m (\n\u001b[0;32m   3808\u001b[0m         \u001b[38;5;28misinstance\u001b[39m(casted_key, abc\u001b[38;5;241m.\u001b[39mIterable)\n\u001b[0;32m   3809\u001b[0m         \u001b[38;5;129;01mand\u001b[39;00m \u001b[38;5;28many\u001b[39m(\u001b[38;5;28misinstance\u001b[39m(x, \u001b[38;5;28mslice\u001b[39m) \u001b[38;5;28;01mfor\u001b[39;00m x \u001b[38;5;129;01min\u001b[39;00m casted_key)\n\u001b[0;32m   3810\u001b[0m     ):\n\u001b[0;32m   3811\u001b[0m         \u001b[38;5;28;01mraise\u001b[39;00m InvalidIndexError(key)\n\u001b[1;32m-> 3812\u001b[0m     \u001b[38;5;28;01mraise\u001b[39;00m \u001b[38;5;167;01mKeyError\u001b[39;00m(key) \u001b[38;5;28;01mfrom\u001b[39;00m \u001b[38;5;21;01merr\u001b[39;00m\n\u001b[0;32m   3813\u001b[0m \u001b[38;5;28;01mexcept\u001b[39;00m \u001b[38;5;167;01mTypeError\u001b[39;00m:\n\u001b[0;32m   3814\u001b[0m     \u001b[38;5;66;03m# If we have a listlike key, _check_indexing_error will raise\u001b[39;00m\n\u001b[0;32m   3815\u001b[0m     \u001b[38;5;66;03m#  InvalidIndexError. Otherwise we fall through and re-raise\u001b[39;00m\n\u001b[0;32m   3816\u001b[0m     \u001b[38;5;66;03m#  the TypeError.\u001b[39;00m\n\u001b[0;32m   3817\u001b[0m     \u001b[38;5;28mself\u001b[39m\u001b[38;5;241m.\u001b[39m_check_indexing_error(key)\n",
      "\u001b[1;31mKeyError\u001b[0m: 'Adj Close'"
     ]
    }
   ],
   "source": [
    "GLD_adj_close = df_final['Adj Close']\n",
    "SPY_adj_close = df_final['SP_Ajclose']\n",
    "DJ_adj_close  = df_final['DJ_Ajclose']\n",
    "\n",
    "df_p = pd.DataFrame({'GLD':GLD_adj_close, 'SPY':SPY_adj_close, 'DJ':DJ_adj_close})\n",
    "\n",
    "df_ax = df_p.plot(title='Effect of Index prices on gold rates',figsize=(15,8))\n",
    "\n",
    "df_ax.set_ylabel('Price')\n",
    "df_ax.legend(loc='upper left')\n",
    "plt.show()"
   ]
  },
  {
   "cell_type": "markdown",
   "metadata": {},
   "source": [
    "## Computing Daily Returns of all Features"
   ]
  },
  {
   "cell_type": "code",
   "execution_count": null,
   "metadata": {},
   "outputs": [],
   "source": [
    "def compute_daily_returns(df):\n",
    "    \"\"\"Compute and return the daily return values.\"\"\"\n",
    "    # TODO: Your code here\n",
    "    # Note: Returned DataFrame must have the same number of rows\n",
    "    daily_return = (df / df.shift(1)) - 1\n",
    "    daily_return[0] = 0\n",
    "    return daily_return\n"
   ]
  },
  {
   "cell_type": "code",
   "execution_count": null,
   "metadata": {},
   "outputs": [],
   "source": [
    "GLD_adj_close = df_final['Adj Close']\n",
    "SPY_adj_close = df_final['SP_Ajclose']\n",
    "DJ_adj_close  = df_final['DJ_Ajclose']\n",
    "EG_adj_close =  df_final['EG_Ajclose']\n",
    "USO_Adj_close = df_final['USO_Adj Close']\n",
    "GDX_Adj_close = df_final['GDX_Adj Close']\n",
    "EU_price      = df_final['EU_Price']\n",
    "OF_price      = df_final['OF_Price']\n",
    "OS_price      = df_final['OS_Price']\n",
    "SF_price      = df_final['SF_Price']\n",
    "USB_price      = df_final['USB_Price']\n",
    "PLT_price      = df_final['PLT_Price']\n",
    "PLD_price      = df_final['PLD_Price']\n",
    "rho_price      = df_final['RHO_PRICE']\n",
    "usdi_price      = df_final['USDI_Price']\n",
    "\n",
    "\n",
    "\n",
    "GLD_daily_return = compute_daily_returns(GLD_adj_close)\n",
    "SPY_daily_return = compute_daily_returns(SPY_adj_close)\n",
    "DJ_adj_return    = compute_daily_returns(DJ_adj_close)\n",
    "EG_adj_return     = compute_daily_returns(EG_adj_close)\n",
    "USO_Adj_return    = compute_daily_returns(USO_Adj_close)\n",
    "GDX_Adj_return   =compute_daily_returns(GDX_Adj_close)\n",
    "EU_return        = compute_daily_returns(EU_price)\n",
    "OF_price         =compute_daily_returns(OF_price)\n",
    "OS_price         =compute_daily_returns(OS_price)\n",
    "SF_price         =compute_daily_returns(SF_price)\n",
    "USB_price         =compute_daily_returns(USB_price)\n",
    "PLT_price         =compute_daily_returns(PLT_price)\n",
    "PLD_price         =compute_daily_returns(PLD_price)\n",
    "rho_price         =compute_daily_returns(rho_price)\n",
    "USDI_price         =compute_daily_returns(usdi_price)\n",
    "\n",
    "df_d = pd.DataFrame({'GLD':GLD_daily_return, 'SPY':SPY_daily_return, 'DJ':DJ_adj_return, 'EG':EG_adj_return, 'USO':USO_Adj_return,\n",
    "                  'GDX':GDX_Adj_return,'EU':EU_return, 'OF':OF_price,'SF':SF_price,'OS':OS_price, 'USB':USB_price, 'PLT':PLT_price, 'PLD':PLD_price,\n",
    "                  'RHO':rho_price,'USDI':USDI_price})\n",
    "\n",
    "daily_ax = df_d[-100:].plot(title='Last 100 records of daily return of all features',figsize=(15,8))\n",
    "\n",
    "daily_ax.set_ylabel('Daily return')\n",
    "daily_ax.legend(loc='lower left')\n",
    "plt.show()"
   ]
  },
  {
   "cell_type": "markdown",
   "metadata": {},
   "source": [
    "## Computing daily returns of stock indexes"
   ]
  },
  {
   "cell_type": "code",
   "execution_count": 66,
   "metadata": {},
   "outputs": [
    {
     "ename": "NameError",
     "evalue": "name 'GLD_daily_return' is not defined",
     "output_type": "error",
     "traceback": [
      "\u001b[1;31m---------------------------------------------------------------------------\u001b[0m",
      "\u001b[1;31mNameError\u001b[0m                                 Traceback (most recent call last)",
      "Cell \u001b[1;32mIn[66], line 1\u001b[0m\n\u001b[1;32m----> 1\u001b[0m df_s \u001b[38;5;241m=\u001b[39m pd\u001b[38;5;241m.\u001b[39mDataFrame({\u001b[38;5;124m'\u001b[39m\u001b[38;5;124mGLD\u001b[39m\u001b[38;5;124m'\u001b[39m:GLD_daily_return, \u001b[38;5;124m'\u001b[39m\u001b[38;5;124mSPY\u001b[39m\u001b[38;5;124m'\u001b[39m:SPY_daily_return, \u001b[38;5;124m'\u001b[39m\u001b[38;5;124mDJ\u001b[39m\u001b[38;5;124m'\u001b[39m:DJ_adj_return})\n\u001b[0;32m      3\u001b[0m daily_ax \u001b[38;5;241m=\u001b[39m df_s[\u001b[38;5;241m-\u001b[39m\u001b[38;5;241m100\u001b[39m:]\u001b[38;5;241m.\u001b[39mplot(title\u001b[38;5;241m=\u001b[39m\u001b[38;5;124m'\u001b[39m\u001b[38;5;124mLast 100 records of daily return of Stock Indexes\u001b[39m\u001b[38;5;124m'\u001b[39m,figsize\u001b[38;5;241m=\u001b[39m(\u001b[38;5;241m15\u001b[39m,\u001b[38;5;241m8\u001b[39m))\n\u001b[0;32m      5\u001b[0m daily_ax\u001b[38;5;241m.\u001b[39mset_ylabel(\u001b[38;5;124m'\u001b[39m\u001b[38;5;124mDaily return\u001b[39m\u001b[38;5;124m'\u001b[39m)\n",
      "\u001b[1;31mNameError\u001b[0m: name 'GLD_daily_return' is not defined"
     ]
    }
   ],
   "source": [
    "df_s = pd.DataFrame({'GLD':GLD_daily_return, 'SPY':SPY_daily_return, 'DJ':DJ_adj_return})\n",
    "\n",
    "daily_ax = df_s[-100:].plot(title='Last 100 records of daily return of Stock Indexes',figsize=(15,8))\n",
    "\n",
    "daily_ax.set_ylabel('Daily return')\n",
    "daily_ax.legend(loc='lower left')\n",
    "plt.show()"
   ]
  },
  {
   "cell_type": "markdown",
   "metadata": {},
   "source": [
    "## Scatterplot"
   ]
  },
  {
   "cell_type": "code",
   "execution_count": null,
   "metadata": {},
   "outputs": [],
   "source": [
    "df_d.plot(kind='scatter', x='SPY', y='GLD')"
   ]
  },
  {
   "cell_type": "code",
   "execution_count": null,
   "metadata": {},
   "outputs": [],
   "source": [
    "df_d.plot(kind='scatter', x='DJ', y='GLD')"
   ]
  },
  {
   "cell_type": "code",
   "execution_count": null,
   "metadata": {},
   "outputs": [],
   "source": [
    "df_d.plot(kind='scatter', x='EG', y='GLD')"
   ]
  },
  {
   "cell_type": "code",
   "execution_count": null,
   "metadata": {},
   "outputs": [],
   "source": [
    "df_d.plot(kind='scatter', x='USO', y='GLD')"
   ]
  },
  {
   "cell_type": "code",
   "execution_count": null,
   "metadata": {},
   "outputs": [],
   "source": [
    "df_d.plot(kind='scatter', x='USB', y='GLD')"
   ]
  },
  {
   "cell_type": "code",
   "execution_count": null,
   "metadata": {},
   "outputs": [],
   "source": [
    "df_d.plot(kind='scatter', x='EU', y='GLD')"
   ]
  },
  {
   "cell_type": "code",
   "execution_count": null,
   "metadata": {},
   "outputs": [],
   "source": [
    "df_d.plot(kind='scatter', x='PLT', y='GLD')"
   ]
  },
  {
   "cell_type": "code",
   "execution_count": null,
   "metadata": {},
   "outputs": [],
   "source": [
    "df_d.plot(kind='scatter', x='PLD', y='GLD')"
   ]
  },
  {
   "cell_type": "markdown",
   "metadata": {},
   "source": [
    "## Statistical Measures (Mean, Standard deviation, Kurtosis)"
   ]
  },
  {
   "cell_type": "markdown",
   "metadata": {},
   "source": [
    "**Kurtosis** is a statistical measure that is used to describe the distribution. Whereas skewness differentiates extreme values in one versus the other tail, kurtosis measures extreme values in either tail. Distributions with large kurtosis exhibit tail data exceeding the tails of the normal distribution (e.g., five or more standard deviations from the mean). Distributions with low kurtosis exhibit tail data that is generally less extreme than the tails of the normal distribution.\n",
    "\n",
    "\n",
    "For investors, high kurtosis of the return distribution implies that the investor will experience occasional extreme returns (either positive or negative), more extreme than the usual + or - three standard deviations from the mean that is predicted by the normal distribution of returns. This phenomenon is known as **kurtosis risk**.\n",
    "\n",
    "**Positive Kurtosis**\n",
    "More weights in the tail\n",
    "\n",
    "![Positive](pos.png)\n",
    "\n",
    "**Negative Kurtosis**\n",
    "It has as much data in each tail as it does in the peak.\n",
    "\n",
    "![Negative](neg.png)"
   ]
  },
  {
   "cell_type": "code",
   "execution_count": null,
   "metadata": {},
   "outputs": [],
   "source": [
    "# computing mean,standard deviation and kurtosis of Gold ETF daily return\n",
    "\n",
    "mean=df_d['GLD'].mean()\n",
    "# computing standard deviation of Gold stock\n",
    "std=df_d['GLD'].std()\n",
    "kurt=df_d['GLD'].kurtosis()\n",
    "print('Mean=',mean)\n",
    "print('Standard Deviation=',std)\n",
    "print('Kurtosis=',kurt)\n",
    "#Plotting Histogram\n",
    "df_d['GLD'].hist(bins=20)\n",
    "\n",
    "plt.axvline(mean, color='w',linestyle='dashed',linewidth=2)\n",
    "plt.axvline(std, color='r',linestyle='dashed',linewidth=2)\n",
    "plt.axvline(-std, color='r',linestyle='dashed',linewidth=2)\n",
    "plt.title(\"Plotting of Mean, Standard deviation and Kurtosis of Gold Prices\")\n",
    "plt.show()"
   ]
  },
  {
   "cell_type": "code",
   "execution_count": null,
   "metadata": {},
   "outputs": [],
   "source": [
    "# computing mean,standard deviation and kurtosis of S&P 500 Index daily return\n",
    "\n",
    "mean=df_d['SPY'].mean()\n",
    "# computing standard deviation of Gold stock\n",
    "std=df_d['SPY'].std()\n",
    "kurt=df_d['SPY'].kurtosis()\n",
    "print('Mean=',mean)\n",
    "print('Standard Deviation=',std)\n",
    "print('Kurtosis=',kurt)\n",
    "#Plotting Histogram\n",
    "df_d['SPY'].hist(bins=20)\n",
    "\n",
    "plt.axvline(mean, color='w',linestyle='dashed',linewidth=2)\n",
    "plt.axvline(std, color='r',linestyle='dashed',linewidth=2)\n",
    "plt.axvline(-std, color='r',linestyle='dashed',linewidth=2)\n",
    "plt.title(\"Plotting of Mean, Standard deviation and Kurtosis of SPY Prices\")\n",
    "plt.show()"
   ]
  },
  {
   "cell_type": "code",
   "execution_count": null,
   "metadata": {},
   "outputs": [],
   "source": [
    "# computing mean,standard deviation and kurtosis of Dow Jones Index daily return\n",
    "mean=df_d['DJ'].mean()\n",
    "# computing standard deviation of Gold stock\n",
    "std=df_d['DJ'].std()\n",
    "kurt=df_d['DJ'].kurtosis()\n",
    "print('Mean=',mean)\n",
    "print('Standard Deviation=',std)\n",
    "print('Kurtosis=',kurt)\n",
    "#Plotting Histogram\n",
    "df_d['DJ'].hist(bins=20)\n",
    "\n",
    "plt.axvline(mean, color='w',linestyle='dashed',linewidth=2)\n",
    "plt.axvline(std, color='r',linestyle='dashed',linewidth=2)\n",
    "plt.axvline(-std, color='r',linestyle='dashed',linewidth=2)\n",
    "plt.title(\"Plotting of Mean, Standard deviation and Kurtosis of Dow jones Prices\")\n",
    "plt.show()"
   ]
  },
  {
   "cell_type": "markdown",
   "metadata": {},
   "source": [
    "## Correlation Analysis"
   ]
  },
  {
   "cell_type": "markdown",
   "metadata": {},
   "source": [
    "### Plotting Correlation Matrix"
   ]
  },
  {
   "cell_type": "code",
   "execution_count": null,
   "metadata": {},
   "outputs": [],
   "source": [
    "plt.figure(figsize=(24,18)) \n",
    "sns.heatmap(df_final.corr(), annot=True) "
   ]
  },
  {
   "cell_type": "code",
   "execution_count": null,
   "metadata": {},
   "outputs": [],
   "source": [
    "X=df_final.drop(['Adj Close'],axis=1)\n",
    "X=X.drop(['Close'],axis=1)"
   ]
  },
  {
   "cell_type": "code",
   "execution_count": null,
   "metadata": {},
   "outputs": [],
   "source": [
    "X.corrwith(df_final['Adj Close']).plot.bar(\n",
    "        figsize = (20, 10), title = \"Correlation with Adj Close\", fontsize = 20,\n",
    "        rot = 90, grid = True)"
   ]
  },
  {
   "cell_type": "code",
   "execution_count": null,
   "metadata": {},
   "outputs": [],
   "source": [
    "corr_matrix=df_final.corr()\n",
    "coef=corr_matrix[\"Adj Close\"].sort_values(ascending=False)"
   ]
  },
  {
   "cell_type": "markdown",
   "metadata": {},
   "source": [
    "### Positively Correlated Variables"
   ]
  },
  {
   "cell_type": "code",
   "execution_count": null,
   "metadata": {},
   "outputs": [],
   "source": [
    "pos_corr=coef[coef>0]\n",
    "pos_corr"
   ]
  },
  {
   "cell_type": "markdown",
   "metadata": {},
   "source": [
    "### Negatively Correlated Variables"
   ]
  },
  {
   "cell_type": "code",
   "execution_count": null,
   "metadata": {},
   "outputs": [],
   "source": [
    "neg_corr=coef[coef<0]\n",
    "neg_corr"
   ]
  },
  {
   "cell_type": "markdown",
   "metadata": {},
   "source": [
    "## Technical Indicators"
   ]
  },
  {
   "cell_type": "markdown",
   "metadata": {},
   "source": [
    "I will also use following technical indicators which I feel help as a feature for prediction of Gold price\n",
    "\n",
    "**1. MACD :** The moving average convergence-divergence (MACD) is one of the most powerful and well-known indicators in technical analysis. The indicator is comprised of two exponential moving averages that help measure momentum in a security. The MACD is simply the difference between these two moving averages plotted against a centerline, where the centerline is the point at which the two moving averages are equal.\n",
    "\n",
    "**2. RSI :** The relative strength index (RSI) is another well known momentum indicators that’s widely used in technical analysis. The indicator is commonly used to identify overbought and oversold conditions in a security with a range between 0 (oversold) and 100 (overbought).\n",
    "\n",
    "**3. Simple Moving Average (SMA) :** simply takes the sum of all of the past closing prices over a time period and divides the result by the total number of prices used in the calculation. For example, a 10-day simple moving average takes the last ten closing prices and divides them by ten.\n",
    "\n",
    "**4. Upper Band**\n",
    "\n",
    "**5. Lower Band**\n",
    "\n",
    "**6. DIFF**\n",
    "\n",
    "**7. Open-Close**\n",
    "\n",
    "**8. High-Low**"
   ]
  },
  {
   "cell_type": "code",
   "execution_count": null,
   "metadata": {},
   "outputs": [],
   "source": [
    "def calculate_MACD(df, nslow=26, nfast=12):\n",
    "    emaslow = df.ewm(span=nslow, min_periods=nslow, adjust=True, ignore_na=False).mean()\n",
    "    emafast = df.ewm(span=nfast, min_periods=nfast, adjust=True, ignore_na=False).mean()\n",
    "    dif = emafast - emaslow\n",
    "    MACD = dif.ewm(span=9, min_periods=9, adjust=True, ignore_na=False).mean()\n",
    "    return dif, MACD\n",
    "\n",
    "def calculate_RSI(df, periods=14):\n",
    "    # wilder's RSI\n",
    "    delta = df.diff()\n",
    "    up, down = delta.copy(), delta.copy()\n",
    "\n",
    "    up[up < 0] = 0\n",
    "    down[down > 0] = 0\n",
    "\n",
    "    rUp = up.ewm(com=periods,adjust=False).mean()\n",
    "    rDown = down.ewm(com=periods, adjust=False).mean().abs()\n",
    "\n",
    "    rsi = 100 - 100 / (1 + rUp / rDown)\n",
    "    return rsi\n",
    "\n",
    "def calculate_SMA(df, peroids=15):\n",
    "    SMA = df.rolling(window=peroids, min_periods=peroids, center=False).mean()\n",
    "    return SMA\n",
    "\n",
    "def calculate_BB(df, peroids=15):\n",
    "    STD = df.rolling(window=peroids,min_periods=peroids, center=False).std()\n",
    "    SMA = calculate_SMA(df)\n",
    "    upper_band = SMA + (2 * STD)\n",
    "    lower_band = SMA - (2 * STD)\n",
    "    return upper_band, lower_band\n",
    "\n",
    "def calculate_stdev(df,periods=5):\n",
    "    STDEV = df.rolling(periods).std()\n",
    "    return STDEV"
   ]
  },
  {
   "cell_type": "markdown",
   "metadata": {},
   "source": [
    "## Plotting Technical Indicators"
   ]
  },
  {
   "cell_type": "code",
   "execution_count": null,
   "metadata": {},
   "outputs": [],
   "source": [
    "fig, axes = plt.subplots(nrows=1, ncols=4, figsize=(16, 4))\n",
    "\n",
    "# Calculate Simple Moving Average for GLD\n",
    "SMA_GLD = calculate_SMA(GLD_adj_close)\n",
    "\n",
    "GLD_adj_close[:365].plot(title='GLD Moving Average',label='GLD', ax=axes[0])\n",
    "\n",
    "SMA_GLD[:365].plot(label=\"SMA\",ax=axes[0])\n",
    "\n",
    "\n",
    "# Calculate Bollinger Bands for GLD\n",
    "upper_band, lower_band = calculate_BB(GLD_adj_close)\n",
    "\n",
    "upper_band[:365].plot(label='upper band', ax=axes[0])\n",
    "lower_band[:365].plot(label='lower band', ax=axes[0])\n",
    "\n",
    "\n",
    "# Calculate MACD for GLD\n",
    "DIF, MACD = calculate_MACD(GLD_adj_close)\n",
    "\n",
    "DIF[:365].plot(title='DIF and MACD',label='DIF', ax=axes[1])\n",
    "MACD[:365].plot(label='MACD', ax=axes[1])\n",
    "\n",
    "# Calculate RSI for GLD\n",
    "RSI = calculate_RSI(GLD_adj_close)\n",
    "RSI[:365].plot(title='RSI',label='RSI', ax=axes[2])\n",
    "\n",
    "# Calculating Standard deviation for GLD\n",
    "STDEV= calculate_stdev(GLD_adj_close)\n",
    "STDEV[:365].plot(title='STDEV',label='STDEV', ax=axes[3])\n",
    "\n",
    "Open_Close=df_final.Open - df_final.Close\n",
    "\n",
    "High_Low=df_final.High-df_final.Low\n",
    "\n",
    "axes[0].set_ylabel('Price')\n",
    "axes[1].set_ylabel('Price')\n",
    "axes[2].set_ylabel('Price')\n",
    "axes[3].set_ylabel('Price')\n",
    "\n",
    "\n",
    "\n",
    "axes[0].legend(loc='lower left')\n",
    "axes[1].legend(loc='lower left')\n",
    "axes[2].legend(loc='lower left')\n",
    "axes[3].legend(loc='lower left')"
   ]
  },
  {
   "cell_type": "code",
   "execution_count": null,
   "metadata": {},
   "outputs": [],
   "source": [
    "fig, axes = plt.subplots(nrows=1, ncols=2, figsize=(16, 4))\n",
    "Open_Close=df_final.Open - df_final.Close\n",
    "Open_Close[:365].plot(title='Open-close',label='Open_Close', ax=axes[0])\n",
    "\n",
    "High_Low=df_final.High-df_final.Low\n",
    "High_Low[:365].plot(title='High_Low',label='High_Low', ax=axes[1])\n",
    "axes[0].set_ylabel('Price')\n",
    "axes[1].set_ylabel('Price')\n",
    "\n",
    "\n",
    "\n",
    "\n",
    "axes[0].legend(loc='lower left')\n",
    "axes[1].legend(loc='lower left')\n"
   ]
  },
  {
   "cell_type": "code",
   "execution_count": null,
   "metadata": {},
   "outputs": [],
   "source": [
    "test = df_final\n",
    "test['SMA'] = SMA_GLD\n",
    "test['Upper_band'] = upper_band\n",
    "test['Lower_band'] = lower_band\n",
    "test['DIF'] = DIF\n",
    "test['MACD'] = MACD\n",
    "test['RSI'] = RSI\n",
    "test['STDEV'] = STDEV\n",
    "test['Open_Close']=Open_Close\n",
    "test['High_Low']=High_Low\n",
    "\n",
    "\n",
    "# Dropping first 33 records from the data as it has null values because of introduction of technical indicators\n",
    "test = test[33:]\n",
    "\n",
    "# Target column\n",
    "target_adj_close = pd.DataFrame(test['Adj Close'])\n",
    "\n",
    "\n",
    "display(test.head())"
   ]
  },
  {
   "cell_type": "code",
   "execution_count": null,
   "metadata": {},
   "outputs": [],
   "source": [
    "df_final.columns"
   ]
  },
  {
   "cell_type": "markdown",
   "metadata": {},
   "source": [
    "In this step I would segregate feature and target variables. I will not use Close feature of GLD ETF and will use Adjusted Close of Gold ETF as target variable "
   ]
  },
  {
   "cell_type": "code",
   "execution_count": null,
   "metadata": {},
   "outputs": [],
   "source": [
    "# selecting Feature Columns\n",
    "feature_columns = ['Open', 'High', 'Low', 'Volume','SP_open','SP_high','SP_low','SP_Ajclose','SP_volume','DJ_open','DJ_high', 'DJ_low',  'DJ_Ajclose', 'DJ_volume', 'EG_open','EG_high', 'EG_low',  \n",
    "                   'EG_Ajclose', 'EG_volume', 'EU_Price','EU_open', 'EU_high', 'EU_low', 'EU_Trend', 'OF_Price','OF_Open','OF_High', 'OF_Low', 'OF_Volume', 'OF_Trend', 'OS_Price', 'OS_Open','OS_High', 'OS_Low', 'OS_Trend', 'SF_Price', 'SF_Open', 'SF_High',\n",
    "                   'SF_Low', 'SF_Volume', 'SF_Trend', 'USB_Price', 'USB_Open', 'USB_High','USB_Low', 'USB_Trend', 'PLT_Price', 'PLT_Open', 'PLT_High', 'PLT_Low',\n",
    "                    'PLT_Trend', 'PLD_Price', 'PLD_Open', 'PLD_High', 'PLD_Low','PLD_Trend', 'RHO_PRICE', 'USDI_Price', 'USDI_Open', 'USDI_High',\n",
    "                     'USDI_Low', 'USDI_Volume', 'USDI_Trend','GDX_Open', 'GDX_High',\n",
    "       'GDX_Low', 'GDX_Close', 'GDX_Adj Close', 'GDX_Volume', 'USO_Open',\n",
    "       'USO_High', 'USO_Low', 'USO_Close', 'USO_Adj Close', 'USO_Volume','SMA', 'Upper_band', 'Lower_band', 'DIF', 'MACD','RSI','STDEV','Open_Close', 'High_Low']\n",
    "\n"
   ]
  },
  {
   "cell_type": "markdown",
   "metadata": {},
   "source": [
    "## Normalizing the data\n",
    "\n",
    "In this step I would perform feature scaling/normalization of feature variables using sklearn's MinMaxScaler function."
   ]
  },
  {
   "cell_type": "code",
   "execution_count": null,
   "metadata": {},
   "outputs": [],
   "source": [
    "from sklearn.preprocessing import MinMaxScaler\n",
    "scaler = MinMaxScaler()\n",
    "feature_minmax_transform_data = scaler.fit_transform(test[feature_columns])\n",
    "feature_minmax_transform = pd.DataFrame(columns=feature_columns, data=feature_minmax_transform_data, index=test.index)\n",
    "feature_minmax_transform.head()"
   ]
  },
  {
   "cell_type": "code",
   "execution_count": null,
   "metadata": {},
   "outputs": [],
   "source": [
    "display(feature_minmax_transform.head())\n",
    "print('Shape of features : ', feature_minmax_transform.shape)\n",
    "print('Shape of target : ', target_adj_close.shape)\n",
    "\n",
    "# Shift target array because we want to predict the n + 1 day value\n",
    "\n",
    "\n",
    "target_adj_close = target_adj_close.shift(-1)\n",
    "validation_y = target_adj_close[-90:-1]\n",
    "target_adj_close = target_adj_close[:-90]\n",
    "\n",
    "# Taking last 90 rows of data to be validation set\n",
    "validation_X = feature_minmax_transform[-90:-1]\n",
    "feature_minmax_transform = feature_minmax_transform[:-90]\n",
    "display(validation_X.tail())\n",
    "display(validation_y.tail())\n",
    "\n",
    "print(\"\\n -----After process------ \\n\")\n",
    "print('Shape of features : ', feature_minmax_transform.shape)\n",
    "print('Shape of target : ', target_adj_close.shape)\n",
    "display(target_adj_close.tail())"
   ]
  },
  {
   "cell_type": "markdown",
   "metadata": {},
   "source": [
    "## Train Test Split\n",
    "\n",
    "In this step we would perform Train test split using sklearn's Timeseries split"
   ]
  },
  {
   "cell_type": "code",
   "execution_count": null,
   "metadata": {},
   "outputs": [],
   "source": [
    "ts_split= TimeSeriesSplit(n_splits=10)\n",
    "for train_index, test_index in ts_split.split(feature_minmax_transform):\n",
    "        X_train, X_test = feature_minmax_transform[:len(train_index)], feature_minmax_transform[len(train_index): (len(train_index)+len(test_index))]\n",
    "        y_train, y_test = target_adj_close[:len(train_index)].values.ravel(), target_adj_close[len(train_index): (len(train_index)+len(test_index))].values.ravel()\n",
    "       "
   ]
  },
  {
   "cell_type": "code",
   "execution_count": null,
   "metadata": {},
   "outputs": [],
   "source": [
    "X_train.shape"
   ]
  },
  {
   "cell_type": "code",
   "execution_count": null,
   "metadata": {},
   "outputs": [],
   "source": [
    "X_test.shape"
   ]
  },
  {
   "cell_type": "code",
   "execution_count": null,
   "metadata": {},
   "outputs": [],
   "source": [
    "y_train.shape"
   ]
  },
  {
   "cell_type": "code",
   "execution_count": null,
   "metadata": {},
   "outputs": [],
   "source": [
    "y_test.shape"
   ]
  },
  {
   "cell_type": "code",
   "execution_count": null,
   "metadata": {},
   "outputs": [],
   "source": [
    "def validate_result(model, model_name):\n",
    "    predicted = model.predict(validation_X)\n",
    "    RSME_score = np.sqrt(mean_squared_error(validation_y, predicted))\n",
    "    print('RMSE: ', RSME_score)\n",
    "    \n",
    "    R2_score = r2_score(validation_y, predicted)\n",
    "    print('R2 score: ', R2_score)\n",
    "\n",
    "    plt.plot(validation_y.index, predicted,'r', label='Predict')\n",
    "    plt.plot(validation_y.index, validation_y,'b', label='Actual')\n",
    "    plt.ylabel('Price')\n",
    "    plt.gca().xaxis.set_major_formatter(mdates.DateFormatter('%Y-%m-%d'))\n",
    "    plt.gca().xaxis.set_major_locator(mdates.MonthLocator())\n",
    "    plt.title(model_name + ' Predict vs Actual')\n",
    "    plt.legend(loc='upper right')\n",
    "    plt.show()"
   ]
  },
  {
   "cell_type": "markdown",
   "metadata": {},
   "source": [
    "## Model Building\n",
    "\n",
    "### 1. Benchmark Model :\n",
    "       I will use Decision Tree Regressor with default parameter as my Benchmark model for the project."
   ]
  },
  {
   "cell_type": "code",
   "execution_count": null,
   "metadata": {},
   "outputs": [],
   "source": [
    "from sklearn.tree import DecisionTreeRegressor\n",
    "\n",
    "dt = DecisionTreeRegressor(random_state=0)\n",
    "\n",
    "benchmark_dt=dt.fit(X_train, y_train)\n",
    "\n",
    "validate_result(benchmark_dt, 'Decision Tree Regression')"
   ]
  },
  {
   "cell_type": "markdown",
   "metadata": {},
   "source": [
    "## Solution Model \n",
    "\n",
    "### Support Vector Regressor (SVR)"
   ]
  },
  {
   "cell_type": "code",
   "execution_count": null,
   "metadata": {},
   "outputs": [],
   "source": [
    "# Save all soultion models\n",
    "solution_models = {}\n",
    "# SVR with  linear Kernel\n",
    "svr_lin = SVR(kernel='linear')\n",
    "linear_svr_clf_feat = svr_lin.fit(X_train,y_train)\n",
    "validate_result(linear_svr_clf_feat,'Linear SVR All Feat')\n"
   ]
  },
  {
   "cell_type": "markdown",
   "metadata": {},
   "source": [
    "### Hyperparameter Tuning\n",
    "In this step I will tune two parameters of SVR C and epsilon to see if the model shows any improvement."
   ]
  },
  {
   "cell_type": "code",
   "execution_count": null,
   "metadata": {},
   "outputs": [],
   "source": [
    "linear_svr_parameters = {\n",
    "    'C':[0.5, 1.0, 10.0, 50.0],\n",
    "    'epsilon':[0, 0.1, 0.5, 0.7, 0.9],\n",
    "}\n",
    "\n",
    "lsvr_grid_search_feat = GridSearchCV(estimator=linear_svr_clf_feat,\n",
    "                           param_grid=linear_svr_parameters,\n",
    "                           cv=ts_split,\n",
    ")\n",
    "\n",
    "lsvr_grid_search_feat.fit(X_train, y_train)\n",
    "\n",
    "validate_result(lsvr_grid_search_feat,'Linear SVR GS All Feat')\n"
   ]
  },
  {
   "cell_type": "markdown",
   "metadata": {},
   "source": [
    "As we have seen using gridsearch on SVR we get significant improvement in R2 score and RMSE also came down so we will save this as our first solution model "
   ]
  },
  {
   "cell_type": "code",
   "execution_count": null,
   "metadata": {},
   "outputs": [],
   "source": [
    "\n",
    "solution_models['SVR All Feat'] = lsvr_grid_search_feat"
   ]
  },
  {
   "cell_type": "markdown",
   "metadata": {},
   "source": [
    "## Solution Model : Random Forest"
   ]
  },
  {
   "cell_type": "code",
   "execution_count": null,
   "metadata": {},
   "outputs": [],
   "source": [
    "rf_cl = RandomForestRegressor(n_estimators=50, random_state=0)\n",
    "random_forest_clf_feat = rf_cl.fit(X_train,y_train)\n",
    "validate_result(random_forest_clf_feat,'Random Forest with All feat')"
   ]
  },
  {
   "cell_type": "markdown",
   "metadata": {},
   "source": [
    "## Hyper parameter Tuning\n",
    "In this I will tune 3 parameters of Random forest which are n_estimators,max_features,max_depth"
   ]
  },
  {
   "cell_type": "code",
   "execution_count": null,
   "metadata": {},
   "outputs": [],
   "source": [
    "random_forest_parameters = {\n",
    "    'n_estimators':[10,15,20, 50, 100],\n",
    "    'max_features':['auto','sqrt','log2'],\n",
    "    'max_depth':[2, 3, 5, 7,10],\n",
    "}\n",
    "\n",
    "grid_search_RF_feat = GridSearchCV(estimator=random_forest_clf_feat,\n",
    "                           param_grid=random_forest_parameters,\n",
    "                           cv=ts_split,\n",
    ")\n",
    "\n",
    "grid_search_RF_feat.fit(X_train, y_train)\n"
   ]
  },
  {
   "cell_type": "code",
   "execution_count": null,
   "metadata": {},
   "outputs": [],
   "source": [
    "print(grid_search_RF_feat.best_params_)\n",
    "validate_result(grid_search_RF_feat,'RandomForest GS')"
   ]
  },
  {
   "cell_type": "markdown",
   "metadata": {},
   "source": [
    "As we have seen, Random forest with default parameters performed better than tuned Random forest model.So, we will include random forest with default parameters as our second solution model."
   ]
  },
  {
   "cell_type": "code",
   "execution_count": null,
   "metadata": {},
   "outputs": [],
   "source": [
    "solution_models['Random_Forest with Feat'] = random_forest_clf_feat"
   ]
  },
  {
   "cell_type": "markdown",
   "metadata": {},
   "source": [
    "## Solution Model : Lasso and Ridge"
   ]
  },
  {
   "cell_type": "code",
   "execution_count": null,
   "metadata": {},
   "outputs": [],
   "source": [
    "from sklearn.linear_model import LassoCV\n",
    "from sklearn.linear_model import RidgeCV\n",
    "\n",
    "lasso_clf = LassoCV(n_alphas=1000, max_iter=3000, random_state=0)\n",
    "ridge_clf = RidgeCV(gcv_mode='auto')\n",
    "\n",
    "lasso_clf_feat = lasso_clf.fit(X_train,y_train)\n",
    "validate_result(lasso_clf_feat,'LassoCV')\n",
    "solution_models['LassoCV All feat'] = lasso_clf_feat\n",
    "\n",
    "ridge_clf_feat = ridge_clf.fit(X_train,y_train)\n",
    "validate_result(ridge_clf_feat,'RidgeCV')\n",
    "solution_models['RidgeCV All Feat'] = ridge_clf_feat"
   ]
  },
  {
   "cell_type": "markdown",
   "metadata": {},
   "source": [
    "## Solution Model : Bayesian Ridge"
   ]
  },
  {
   "cell_type": "code",
   "execution_count": null,
   "metadata": {},
   "outputs": [],
   "source": [
    "from sklearn import linear_model\n",
    "bay = linear_model.BayesianRidge()\n",
    "bay_feat = bay.fit(X_train,y_train)\n",
    "validate_result(bay_feat,'Bayesian')\n",
    "solution_models['Bay All Feat'] = bay_feat"
   ]
  },
  {
   "cell_type": "markdown",
   "metadata": {},
   "source": [
    "## Solution Model : Gradient Boosting Regressor"
   ]
  },
  {
   "cell_type": "code",
   "execution_count": null,
   "metadata": {},
   "outputs": [],
   "source": [
    "from sklearn.ensemble import GradientBoostingRegressor\n",
    "regr =GradientBoostingRegressor(n_estimators=70, learning_rate=0.1,max_depth=4, random_state=0, loss='ls')\n",
    "GB_feat = regr.fit(X_train,y_train)\n",
    "validate_result(GB_feat,'NB')\n",
    "solution_models['GB All Feat'] = GB_feat"
   ]
  },
  {
   "cell_type": "markdown",
   "metadata": {},
   "source": [
    "## Solution Model : Stochastic Gradient Descent (SGD)"
   ]
  },
  {
   "cell_type": "code",
   "execution_count": null,
   "metadata": {},
   "outputs": [],
   "source": [
    "from sklearn.linear_model import SGDRegressor\n",
    "sgd =SGDRegressor(max_iter=1000, tol=1e-3,loss='squared_epsilon_insensitive',penalty='l1',alpha=0.1)\n",
    "sgd_feat = sgd.fit(X_train,y_train)\n",
    "validate_result(sgd_feat,'SGD')\n",
    "solution_models['SGD All Feat'] = sgd_feat"
   ]
  },
  {
   "cell_type": "markdown",
   "metadata": {},
   "source": [
    "## Model Review\n",
    "In this step, we will review benchmark model and all the solution model based on evaluation metrics i.e, RMSE and R2 score"
   ]
  },
  {
   "cell_type": "code",
   "execution_count": null,
   "metadata": {},
   "outputs": [],
   "source": [
    "RMSE_scores = {}\n",
    "def model_review(models):\n",
    "    fig, axes = plt.subplots(nrows=3, ncols=3, figsize=(16, 16))\n",
    "\n",
    "    #plot benchmark model\n",
    "    benchmark_predicted = benchmark_dt.predict(validation_X)\n",
    "    benchmark_RSME_score = np.sqrt(mean_squared_error(validation_y, benchmark_predicted))\n",
    "    RMSE_scores['Benchmark'] = benchmark_RSME_score\n",
    "    \n",
    "    axes[0,0].plot(validation_y.index, benchmark_predicted,'r', label='Predict')\n",
    "    axes[0,0].plot(validation_y.index, validation_y,'b', label='Actual')\n",
    "    axes[0,0].xaxis.set_major_formatter(mdates.DateFormatter('%Y-%m'))\n",
    "    axes[0,0].xaxis.set_major_locator(mdates.MonthLocator())\n",
    "    axes[0,0].set_ylabel('Price')\n",
    "    axes[0,0].set_title(\"Benchmark Predict's RMSE Error: \" +\"{0:.2f}\".format(benchmark_RSME_score))\n",
    "    axes[0,0].legend(loc='upper right')\n",
    "    \n",
    "    #plot block\n",
    "    ax_x = 0\n",
    "    ax_y = 1\n",
    "    #plot solution model\n",
    "    for name, model in models.items():\n",
    "        predicted = model.predict(validation_X)\n",
    "        RSME_score = np.sqrt(mean_squared_error(validation_y, predicted))\n",
    "\n",
    "           \n",
    "        axes[ax_x][ax_y].plot(validation_y.index, predicted,'r', label='Predict')\n",
    "        axes[ax_x][ax_y].plot(validation_y.index, validation_y,'b', label='Actual')\n",
    "        axes[ax_x][ax_y].xaxis.set_major_formatter(mdates.DateFormatter('%Y-%m'))\n",
    "        axes[ax_x][ax_y].xaxis.set_major_locator(mdates.MonthLocator())\n",
    "        axes[ax_x][ax_y].set_ylabel('Price')\n",
    "        axes[ax_x][ax_y].set_title(name + \"'s RMSE Error: \" +\"{0:.2f}\".format(RSME_score))\n",
    "        axes[ax_x][ax_y].legend(loc='upper right')\n",
    "        RMSE_scores[name] = RSME_score\n",
    "        if ax_x <=2:\n",
    "            if ax_y < 2:\n",
    "                ax_y += 1\n",
    "            else:\n",
    "                ax_x += 1\n",
    "                ax_y = 0\n",
    "    plt.show()\n",
    "\n",
    "model_review(solution_models)"
   ]
  },
  {
   "cell_type": "markdown",
   "metadata": {},
   "source": [
    "### Comparison of RMSE of Benchmark and all Solution Models"
   ]
  },
  {
   "cell_type": "code",
   "execution_count": null,
   "metadata": {},
   "outputs": [],
   "source": [
    "\n",
    "model_names = []\n",
    "model_values = []\n",
    "for name, value in RMSE_scores.items():\n",
    "    model_names.append(name)\n",
    "    model_values.append(value)\n",
    "\n",
    "model_values = np.array(model_values)\n",
    "model_names = np.array(model_names)\n",
    "\n",
    "indices = np.argsort(model_values)\n",
    "columns = model_names[indices[:8]]\n",
    "values = model_values[indices][:8]\n",
    "\n",
    "fig = plt.figure(figsize = (16,8))\n",
    "plt.bar(np.arange(8), values ,width = 0.6, align=\"center\", color = '#ff00c1')\n",
    "plt.xticks(np.arange(8), columns)\n",
    "plt.xlabel('Model')\n",
    "plt.ylabel('RMSE')\n",
    "plt.title('RMSE compare')   \n",
    "plt.show()"
   ]
  },
  {
   "cell_type": "markdown",
   "metadata": {},
   "source": [
    "## Feature Selection\n",
    "\n",
    "In this step we will select supporting features using sklearn's **SelectFromModel** library using Lasso regressor as it has lowest RMSE."
   ]
  },
  {
   "cell_type": "code",
   "execution_count": null,
   "metadata": {},
   "outputs": [],
   "source": [
    "from sklearn.feature_selection import SelectFromModel\n",
    "\n",
    "sfm = SelectFromModel(lasso_clf_feat)\n",
    "sfm.fit(feature_minmax_transform, target_adj_close.values.ravel())\n",
    "display(feature_minmax_transform.head())\n",
    "sup = sfm.get_support()\n",
    "zipped = zip(feature_minmax_transform,sup)\n",
    "print(*zipped)"
   ]
  },
  {
   "cell_type": "code",
   "execution_count": null,
   "metadata": {},
   "outputs": [],
   "source": [
    "# Selecting Features which supports Model building process\n",
    "\n",
    "feature_selected = feature_minmax_transform[['Open','High','Low','OF_Trend','USB_Trend','PLT_Trend','USDI_Price','GDX_Close','SMA','Upper_band','RSI','Open_Close']]\n",
    "feature_selected_validation_X = validation_X[['Open','High','Low','OF_Trend','USB_Trend','PLT_Trend','USDI_Price','GDX_Close','SMA','Upper_band','RSI','Open_Close']]\n",
    "display(feature_selected.head())\n",
    "display(feature_selected_validation_X.head())"
   ]
  },
  {
   "cell_type": "markdown",
   "metadata": {},
   "source": [
    "## Train Test Split"
   ]
  },
  {
   "cell_type": "code",
   "execution_count": null,
   "metadata": {},
   "outputs": [],
   "source": [
    "for train_index, test_index in ts_split.split(feature_selected):\n",
    "        X_train, X_test = feature_selected[:len(train_index)], feature_selected[len(train_index): (len(train_index)+len(test_index))]\n",
    "        y_train, y_test = target_adj_close[:len(train_index)].values.ravel(), target_adj_close[len(train_index): (len(train_index)+len(test_index))].values.ravel()\n",
    "     "
   ]
  },
  {
   "cell_type": "markdown",
   "metadata": {},
   "source": [
    "## validation Feature Selected Benchmark & Solution Model"
   ]
  },
  {
   "cell_type": "code",
   "execution_count": null,
   "metadata": {},
   "outputs": [],
   "source": [
    "def feature_selected_validate_result(model, model_name):\n",
    "    predicted = model.predict(feature_selected_validation_X)\n",
    "    \n",
    "    RSME_score = np.sqrt(mean_squared_error(validation_y, predicted))\n",
    "    R2_score = r2_score(validation_y, predicted)\n",
    "    \n",
    "    print(model_name + '\\n')\n",
    "    print('RMSE: ', RSME_score)\n",
    "    print('R2 score: ', R2_score)\n",
    "    print('----------------------')\n",
    "\n",
    "\n",
    "print('---------Benchmark-------------')  \n",
    "dt = DecisionTreeRegressor(random_state=0)\n",
    "benchmark_dt_fs = dt.fit(X_train,y_train)\n",
    "feature_selected_validate_result(benchmark_dt_fs, 'Decision Tree')\n",
    "\n",
    "feature_selected_solution_models = {}\n",
    " \n",
    "print('--------Solution Models--------------')  \n",
    "# Random Forest\n",
    "random_forest_clf_fs = RandomForestRegressor(random_state=0,\n",
    "                                             max_depth=3,\n",
    "                                             max_features='auto',\n",
    "                                             n_estimators=10\n",
    ")\n",
    "random_forest_parameters = {\n",
    "    'n_estimators':[10, 50, 100],\n",
    "    'max_features':['auto','sqrt','log2'],\n",
    "    'max_depth':[3, 5, 7],\n",
    "}\n",
    "grid_search_RF_fs = GridSearchCV(estimator=random_forest_clf_fs,\n",
    "                           param_grid=random_forest_parameters,\n",
    "                           cv=ts_split,\n",
    ")\n",
    "grid_search_RF_fs.fit(X_train, y_train)\n",
    "feature_selected_validate_result(grid_search_RF_fs,'Feature selected RandomForest GS')\n",
    "feature_selected_solution_models['FS_RandomForest'] = grid_search_RF_fs\n",
    "\n",
    "# Linear SVR\n",
    "linear_svr_fs = SVR(\n",
    "                          C=50.0,\n",
    "                          epsilon=0,kernel='linear')\n",
    "linear_svr_clf_fs = linear_svr_fs.fit(X_train,y_train)\n",
    "feature_selected_validate_result(linear_svr_clf_fs,'Feature selected LSVR')\n",
    "feature_selected_solution_models['FS_LSVR'] = linear_svr_clf_fs\n",
    "\n",
    "\n",
    "# lasso\n",
    "lasso_fs = LassoCV(n_alphas=1000, max_iter=3000, random_state=0)\n",
    "lasso_clf_fs = lasso_fs.fit(X_train,y_train)\n",
    "feature_selected_validate_result(lasso_clf_fs,'Feature selected LassoCV')\n",
    "feature_selected_solution_models['FS_Lasso'] = lasso_clf_fs\n",
    "\n",
    "# Ridge\n",
    "ridge_fs = RidgeCV(gcv_mode='auto')\n",
    "ridge_clf_fs = ridge_fs.fit(X_train,y_train)\n",
    "feature_selected_validate_result(ridge_clf_fs,'Feature selected RidgeCV')\n",
    "feature_selected_solution_models['FS_RidgeCV'] = ridge_clf_fs\n",
    "\n",
    "# bayesian ridge\n",
    "bay = linear_model.BayesianRidge()\n",
    "bay_feat_fs = bay.fit(X_train,y_train)\n",
    "feature_selected_validate_result(bay_feat_fs,'Feature selected BayRidge')\n",
    "feature_selected_solution_models['Bay_Ridge'] = bay_feat_fs\n",
    "\n",
    "#Gradient Boosting\n",
    "regr =GradientBoostingRegressor(n_estimators=70, learning_rate=0.1,max_depth=4, random_state=0, loss='ls')\n",
    "GB_fs = regr.fit(X_train,y_train)\n",
    "feature_selected_validate_result(GB_fs,'Feature selected GB')\n",
    "feature_selected_solution_models['GB_FS'] = GB_fs\n",
    "\n",
    "#SGD\n",
    "\n",
    "sgd =SGDRegressor(max_iter=1000, tol=1e-3,loss='squared_epsilon_insensitive',penalty='l1',alpha=0.1)\n",
    "sgd_fs = sgd.fit(X_train,y_train)\n",
    "feature_selected_validate_result(sgd_fs,'Feature selected SGD')\n",
    "feature_selected_solution_models['sgd_fs'] = sgd_fs\n"
   ]
  },
  {
   "cell_type": "markdown",
   "metadata": {},
   "source": [
    "## Model Review"
   ]
  },
  {
   "cell_type": "code",
   "execution_count": null,
   "metadata": {},
   "outputs": [],
   "source": [
    "FS_RMSE_scores = {}\n",
    "\n",
    "def fs_model_review(models):\n",
    "    fig, axes = plt.subplots(nrows=3, ncols=3, figsize=(16, 16))\n",
    "\n",
    "    #plot benchmark model\n",
    "    benchmark_dt_predicted = benchmark_dt_fs.predict(feature_selected_validation_X)\n",
    "    benchmark_RSME_score = np.sqrt(mean_squared_error(validation_y, benchmark_dt_predicted))\n",
    "    FS_RMSE_scores['Benchmark'] = benchmark_RSME_score\n",
    "    \n",
    "    axes[0,0].plot(validation_y.index, benchmark_dt_predicted,'y', label='Predict')\n",
    "    axes[0,0].plot(validation_y.index, validation_y,'b', label='Actual')\n",
    "    axes[0,0].xaxis.set_major_formatter(mdates.DateFormatter('%Y-%m'))\n",
    "    axes[0,0].xaxis.set_major_locator(mdates.MonthLocator())\n",
    "    axes[0,0].set_ylabel('Price')\n",
    "    axes[0,0].set_title(\"Benchmark Predict's RMSE Error: \" +\"{0:.2f}\".format(benchmark_RSME_score))\n",
    "    axes[0,0].legend(loc='upper right')\n",
    "    \n",
    "    #plot block\n",
    "    ax_x = 0\n",
    "    ax_y = 1\n",
    "    #plot solution model\n",
    "    for name, model in models.items():\n",
    "        predicted = model.predict(feature_selected_validation_X)\n",
    "        RSME_score = np.sqrt(mean_squared_error(validation_y, predicted))\n",
    "\n",
    "        R2_score = r2_score(validation_y, predicted)\n",
    "    \n",
    "        axes[ax_x][ax_y].plot(validation_y.index, predicted,'y', label='Predict')\n",
    "        axes[ax_x][ax_y].plot(validation_y.index, validation_y,'b', label='Actual')\n",
    "        axes[ax_x][ax_y].xaxis.set_major_formatter(mdates.DateFormatter('%Y-%m'))\n",
    "        axes[ax_x][ax_y].xaxis.set_major_locator(mdates.MonthLocator())\n",
    "        axes[ax_x][ax_y].set_ylabel('Price')\n",
    "        axes[ax_x][ax_y].set_title(name + \"'s RMSE Error: \" +\"{0:.2f}\".format(RSME_score))\n",
    "        axes[ax_x][ax_y].legend(loc='upper right')\n",
    "        FS_RMSE_scores[name] = RSME_score\n",
    "        if ax_x <=2:\n",
    "            if ax_y < 2:\n",
    "                ax_y += 1\n",
    "            else:\n",
    "                ax_x += 1\n",
    "                ax_y = 0\n",
    "    plt.show()\n",
    "\n",
    "fs_model_review(feature_selected_solution_models)"
   ]
  },
  {
   "cell_type": "markdown",
   "metadata": {},
   "source": [
    "### Comparison of RMSE of Feature selected models and Original Features model"
   ]
  },
  {
   "cell_type": "code",
   "execution_count": null,
   "metadata": {},
   "outputs": [],
   "source": [
    "\n",
    "fs_model_names = []\n",
    "fs_model_values = []\n",
    "for name, value in FS_RMSE_scores.items():\n",
    "    fs_model_names.append(name)\n",
    "    fs_model_values.append(value)\n",
    "\n",
    "fs_model_values = np.array(fs_model_values)\n",
    "fs_model_names = np.array(fs_model_names)\n",
    "\n",
    "fs_indices = np.argsort(fs_model_values)\n",
    "fs_columns = fs_model_names[fs_indices[:8]]\n",
    "fs_values = fs_model_values[fs_indices][:8]\n",
    "origin_values = model_values[fs_indices][:8]\n",
    "\n",
    "fig = plt.figure(figsize = (16,8))\n",
    "plt.bar(np.arange(8) - 0.2 , origin_values ,width = 0.4, align=\"center\", color = '#b2b2ff', label = \"Original\")\n",
    "plt.bar(np.arange(8), fs_values ,width = 0.4, align=\"center\", color = '#3232ff', label = \"Feature Selected\")\n",
    "plt.xticks(np.arange(8), fs_columns)\n",
    "plt.xlabel('Model')\n",
    "plt.ylabel('RMSE')\n",
    "plt.title('RMSE compare after feature selection')\n",
    "plt.legend(loc = 'upper center')\n",
    "plt.show()\n"
   ]
  },
  {
   "cell_type": "markdown",
   "metadata": {},
   "source": [
    "**As we have seen from the above plot 3 Feature selected models performs better in RMSE error reduction and Feature selected Linear SVR is the best as it has RMSE of 0.716 in feature selected model and 0.741 with all features model. Also Lasso cv and Bayesian Ridge performs slightly better from original features model where as Ridge cv shows no improvement from features model.Where as four model performance degrades  after feature selection in which benchmark model has highest RMSE error and SGD model degrades most in comparison to others.**"
   ]
  },
  {
   "cell_type": "markdown",
   "metadata": {},
   "source": [
    "# Ensemble Solution\n",
    "\n",
    "So now we will ensemble top three performing models i.e, in case of all the features model Lasso,Bayesian ridge and Ridge are the best performing models so we will ensemble these three models while in case of feature selected models we will combine Lasso,Bayesian Ridge and Linear SVR and will compare all the feature ensemble models with feature selected ensemble models."
   ]
  },
  {
   "cell_type": "code",
   "execution_count": null,
   "metadata": {},
   "outputs": [],
   "source": [
    "# Choosing the top three performing models to ensemble them\n",
    "ensemble_solution_models = [lasso_clf_feat, bay_feat, ridge_clf_feat]\n",
    "class EnsembleSolution:\n",
    "    models = []\n",
    "    def __init__(self, models):\n",
    "        self.models = models\n",
    "    def fit(self, X, y):\n",
    "        for i in self.models:\n",
    "            i.fit(X, y)\n",
    "    def predict(self, X):\n",
    "        result = 0\n",
    "        for i in self.models:\n",
    "            result = result + i.predict(X)\n",
    "        \n",
    "        result = result / len(self.models)\n",
    "        \n",
    "        return result"
   ]
  },
  {
   "cell_type": "code",
   "execution_count": null,
   "metadata": {},
   "outputs": [],
   "source": [
    "print(\"Ensemble Solution Model with Original features\")\n",
    "EnsembleModel = EnsembleSolution(ensemble_solution_models)\n",
    "validate_result(EnsembleModel,'EnsembleSolution')"
   ]
  },
  {
   "cell_type": "markdown",
   "metadata": {},
   "source": [
    "Ensemble solution with all features shows best result (with RMSE 0.699 and R2 score of 0.887) in comparison with other solution models."
   ]
  },
  {
   "cell_type": "code",
   "execution_count": null,
   "metadata": {},
   "outputs": [],
   "source": [
    "ensemble_solution_model_fs = [lasso_clf_fs,bay_feat_fs,linear_svr_clf_fs]\n",
    "\n",
    "print(\"Ensemble Solution Model with Selected features\")\n",
    "EnsembleModel_fs = EnsembleSolution(ensemble_solution_model_fs)\n",
    "feature_selected_validate_result(EnsembleModel_fs,'EnsembleSolution with FS')\n"
   ]
  },
  {
   "cell_type": "markdown",
   "metadata": {},
   "source": [
    "Ensemble solution with feature selection has better solution (RMSE 0.711 and  R2score 0.884 ) but Lasso has best performance (RMSE - 0.709 and R2 score 0.884)"
   ]
  },
  {
   "cell_type": "markdown",
   "metadata": {},
   "source": [
    "## Train Model Multiple Times\n",
    "By the train_reg_multipletimes function.This function would train the model several times (I choosed 7 times ), and use different parameters on TimeSeriesSplit in each time, average the R2 and RMSE.\n",
    "I will apply this function on Benchmark model and on top performing solution models with all features which are Linear SVR, Lasso, Ridge and Bayesian ridge and compare the same."
   ]
  },
  {
   "cell_type": "code",
   "execution_count": null,
   "metadata": {},
   "outputs": [],
   "source": [
    "def train_reg_multipletimes(model, times):\n",
    "    total_rmse = 0\n",
    "    total_r2 = 0\n",
    "    for i in range(times):\n",
    "        reg = model\n",
    "        for train_index, test_index in TimeSeriesSplit(n_splits=i+2).split(feature_minmax_transform):\n",
    "            X_train, X_test = feature_minmax_transform[:len(train_index)], feature_minmax_transform[len(train_index): (len(train_index)+len(test_index))]\n",
    "            y_train, y_test = target_adj_close[:len(train_index)].values.ravel(), target_adj_close[len(train_index): (len(train_index)+len(test_index))].values.ravel()\n",
    "            reg.fit(X_train, y_train)\n",
    "        predicted = reg.predict(validation_X)\n",
    "        rmse, r2 = print_result(validation_y, predicted, [0,len(validation_y)])\n",
    "        total_rmse += rmse\n",
    "        total_r2 += r2\n",
    "    return total_rmse / times, total_r2 / times\n",
    "\n",
    "def print_result(actual, predict, index):\n",
    "    RMSE_score = np.sqrt(mean_squared_error(actual, predict))\n",
    "    print('From {} to {}'.format(index[0],index[-1]))\n",
    "    print('RMSE: ', RMSE_score)\n",
    "    R2_score = r2_score(actual, predict)\n",
    "    print('R2 score: ', R2_score)\n",
    "    print('---------------------')\n",
    "    return RMSE_score, R2_score"
   ]
  },
  {
   "cell_type": "code",
   "execution_count": null,
   "metadata": {},
   "outputs": [],
   "source": [
    "print('Benchmark')\n",
    "t_multiple_benchmark_RMSE,t_multiple_benchmark_R2 = train_reg_multipletimes(benchmark_dt, 7)\n",
    "print('RMSE: {} //  R2: {}\\n'.format(t_multiple_benchmark_RMSE, t_multiple_benchmark_R2))\n"
   ]
  },
  {
   "cell_type": "code",
   "execution_count": null,
   "metadata": {},
   "outputs": [],
   "source": [
    "print('LSVR')\n",
    "t_multiple_LSVR_RMSE,t_multiple_LSVR_R2 = train_reg_multipletimes(linear_svr_clf_feat, 7)\n",
    "print(' RMSE: {} //  R2: {}'.format(t_multiple_LSVR_RMSE, t_multiple_LSVR_R2))"
   ]
  },
  {
   "cell_type": "code",
   "execution_count": null,
   "metadata": {},
   "outputs": [],
   "source": [
    "print('Lasso')\n",
    "t_multiple_lasso_RMSE,t_multiple_lasso_R2 = train_reg_multipletimes(lasso_clf_feat, 7)\n",
    "print(' RMSE: {} //  R2: {}'.format(t_multiple_lasso_RMSE, t_multiple_lasso_R2))"
   ]
  },
  {
   "cell_type": "code",
   "execution_count": null,
   "metadata": {},
   "outputs": [],
   "source": [
    "print('Ridge')\n",
    "t_multiple_ridge_RMSE,t_multiple_ridge_R2 = train_reg_multipletimes(ridge_clf_feat, 7)\n",
    "print(' RMSE: {} //  R2: {}'.format(t_multiple_ridge_RMSE, t_multiple_ridge_R2))"
   ]
  },
  {
   "cell_type": "code",
   "execution_count": null,
   "metadata": {},
   "outputs": [],
   "source": [
    "print('BayRidge')\n",
    "t_multiple_bayridge_RMSE,t_multiple_bayridge_R2 = train_reg_multipletimes(bay_feat, 7)\n",
    "print(' RMSE: {} //  R2: {}'.format(t_multiple_bayridge_RMSE, t_multiple_bayridge_R2))"
   ]
  },
  {
   "cell_type": "code",
   "execution_count": null,
   "metadata": {},
   "outputs": [],
   "source": [
    "print('Ensemble')\n",
    "t_multiple_ensemble_RMSE,t_multiple_ensemble_R2 = train_reg_multipletimes(EnsembleSolution(ensemble_solution_models), 7)\n",
    "print(' RMSE: {} //  R2: {}\\n'.format(t_multiple_ensemble_RMSE, t_multiple_ensemble_R2))"
   ]
  },
  {
   "cell_type": "code",
   "execution_count": null,
   "metadata": {},
   "outputs": [],
   "source": [
    "def cross_validate(model, ts_split):\n",
    "    clf = model\n",
    "    total_rmse = 0\n",
    "    total_r2 = 0\n",
    "    count = 0\n",
    "    for train_index, test_index in ts_split.split(validation_X):\n",
    "        X_test1, X_test2 = validation_X[:len(train_index)], validation_X[len(train_index): (len(train_index)+len(test_index))]\n",
    "        y_test1, y_test2 = validation_y[:len(train_index)].values.ravel(), validation_y[len(train_index): (len(train_index)+len(test_index))].values.ravel()\n",
    "        predicted_test1 = clf.predict(X_test1)\n",
    "        temp1_RMSE, temp1_R2 = print_result(y_test1, predicted_test1, train_index)\n",
    "\n",
    "        predicted_test2 = clf.predict(X_test2)\n",
    "        temp2_RMSE, temp2_R2 = print_result(y_test2, predicted_test2, test_index)\n",
    "        \n",
    "        total_rmse += temp1_RMSE + temp2_RMSE\n",
    "        total_r2 += temp1_R2 + temp2_R2\n",
    "        count += 2\n",
    "    return total_rmse / count, total_r2 / count\n",
    "\n"
   ]
  },
  {
   "cell_type": "markdown",
   "metadata": {},
   "source": [
    "# Cross Validation"
   ]
  },
  {
   "cell_type": "code",
   "execution_count": null,
   "metadata": {},
   "outputs": [],
   "source": [
    "timeseries_cv = TimeSeriesSplit(n_splits=10)\n",
    "test_bench__RMSE, test_bench_R2 = cross_validate(benchmark_dt,timeseries_cv)"
   ]
  },
  {
   "cell_type": "code",
   "execution_count": null,
   "metadata": {},
   "outputs": [],
   "source": [
    "test_lsvr__RMSE, test_lsvr_R2 = cross_validate(lsvr_grid_search_feat,timeseries_cv)"
   ]
  },
  {
   "cell_type": "code",
   "execution_count": null,
   "metadata": {},
   "outputs": [],
   "source": [
    "test_ridge__RMSE, test_ridge_R2 = cross_validate(ridge_clf_feat,timeseries_cv)"
   ]
  },
  {
   "cell_type": "code",
   "execution_count": null,
   "metadata": {},
   "outputs": [],
   "source": [
    "test_lasso__RMSE, test_lasso_R2 = cross_validate(lasso_clf_feat,timeseries_cv)"
   ]
  },
  {
   "cell_type": "code",
   "execution_count": null,
   "metadata": {},
   "outputs": [],
   "source": [
    "test_bay_RMSE, test_bay_R2 = cross_validate(bay_feat,timeseries_cv)"
   ]
  },
  {
   "cell_type": "code",
   "execution_count": null,
   "metadata": {},
   "outputs": [],
   "source": [
    "test_ensemble_RMSE, test_ensemble_R2 = cross_validate(EnsembleSolution(ensemble_solution_models),timeseries_cv)"
   ]
  },
  {
   "cell_type": "code",
   "execution_count": null,
   "metadata": {},
   "outputs": [],
   "source": [
    "print('Benchmark RMSE: {} // Benchmark R2: {}'.format(test_bench__RMSE, test_bench_R2))\n",
    "print('LSVR RMSE: {} // LSVR R2: {}'.format(test_lsvr__RMSE, test_lsvr_R2))\n",
    "print('Lasso RMSE: {} // Lasso R2: {}'.format(test_lasso__RMSE, test_lasso_R2))\n",
    "print('bayesian ridge RMSE: {} // Bayesian ridge R2: {}'.format(test_bay_RMSE, test_bay_R2))\n",
    "\n",
    "print('Ensemble RMSE: {} // Ensemble R2: {}'.format(test_ensemble_RMSE, test_ensemble_R2))"
   ]
  },
  {
   "cell_type": "code",
   "execution_count": null,
   "metadata": {},
   "outputs": [],
   "source": []
  }
 ],
 "metadata": {
  "kernelspec": {
   "display_name": "base",
   "language": "python",
   "name": "python3"
  },
  "language_info": {
   "codemirror_mode": {
    "name": "ipython",
    "version": 3
   },
   "file_extension": ".py",
   "mimetype": "text/x-python",
   "name": "python",
   "nbconvert_exporter": "python",
   "pygments_lexer": "ipython3",
   "version": "3.12.7"
  }
 },
 "nbformat": 4,
 "nbformat_minor": 2
}
